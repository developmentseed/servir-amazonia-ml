{
 "cells": [
  {
   "cell_type": "markdown",
   "metadata": {},
   "source": [
    "# Introduction to TensorFlow and Keras"
   ]
  },
  {
   "cell_type": "markdown",
   "metadata": {},
   "source": [
    "## Objectives"
   ]
  },
  {
   "cell_type": "markdown",
   "metadata": {},
   "source": [
    "The goal of this notebook is to teach some basics of machine learning, deep learning and the TensorFlow framework. Here you will find both the explanations of key concepts and the illustrative programs. "
   ]
  },
  {
   "cell_type": "markdown",
   "metadata": {},
   "source": [
    "### What is TensorFlow?\n",
    "\n",
    "TensorFlow is an open-source framework developed by Google for building various machine learning and deep learning models. Although originally released in late 2015, the first stable version arrived in 2017. TensorFlow is free and open-source, thanks to the Apache Open Source license.\n",
    "\n",
    "The main objective of using TensorFlow is to reduce the complexity of implementing computations on large numerical data sets. In practice, these large computations can manifest as training and inference with machine learning or deep learning models.\n",
    "\n",
    "TensorFlow was designed to operate with multiple CPUs or GPUs, as well as a growing number of mobile operating systems. The framework includes wrappers in Python, C++, and Java.\n",
    "\n",
    "#### How does it work?\n",
    "TensorFlow accepts inputs as a multi-dimensional array called a Tensor, which allows the programmer to create dataflow graphs and structures specifying how data travels through. The framework is designed to support creation of a flowchart of operations to be applied to input Tensors, which travel in one direction and out the other.\n",
    "\n",
    "#### Tensorflow’s Structure\n",
    "There are three main components to TensorFlow's structure.\n",
    "\n",
    "1. preprocessing the data\n",
    "2. building the model\n",
    "3. training and estimating the model\n",
    "\n",
    "The name Tensorflow derives from the way in which the framework receives input in the form of a multi-dimensional array, i.e. the tensors. These tensors travel sequentially through the specified flowchart of the operations, entering at one end and culminate as output at the other end. \n",
    "\n",
    "#### What are Tensorflow Components?\n",
    "**Tensor**\n",
    "Tensors, the basic unit of data in this framework, are involved in every computation of Tensorflow. A tensor is an n-dimensional vector or matrix. In theory, a tensor may represent any form of data. The values belonging to a tensor all share the same data type and often the same shape / dimensionality. A tensor can describe the input data and the output of a calculation. \n",
    "\n",
    "In TensorFlow, all operations are carried out within a graph, which in effect is a series of computations that happen in order. Each indivisual operation is referred to as an op node. All nodes are linked together, so the graph itself is a depiction of the operations and relationships that exist between the nodes. The tensor as a means to supply the operation with data is considered the \"edge\" of the nodes.\n",
    "\n",
    "**Graphs**\n",
    "TensorFlow uses a graph framework. Graphs collect and summarize all of the calculations and offer several benefits:\n",
    "\n",
    "1. They are designed to work on CPUs or GPUs, as well as on mobile devices.\n",
    "2. Graphs are portable which enables the computations to be saved for immediate or later usage. Otherwsie stated, the graph can be frozen and run at a later time.\n",
    "3. Graph calculations are executed by linking tensors together.\n",
    "4. For each teansor, there is a node and an edge. The node carries out the mathematical process and produces endpoint outputs. The input/output connections node are represented by the edges.\n",
    "\n",
    "#### Why do so many people like Tensorflow?\n",
    "TensorFlow is intentionally user-friendly, with helpful plugins to visualize model training and a useful software debugging tool. As well, Tensorflow is highly scalable, with easy deployment on both CPUs and GPUs."
   ]
  }
 ],
 "metadata": {
  "kernelspec": {
   "display_name": "Python 3",
   "language": "python",
   "name": "python3"
  },
  "language_info": {
   "codemirror_mode": {
    "name": "ipython",
    "version": 3
   },
   "file_extension": ".py",
   "mimetype": "text/x-python",
   "name": "python",
   "nbconvert_exporter": "python",
   "pygments_lexer": "ipython3",
   "version": "3.8.11"
  }
 },
 "nbformat": 4,
 "nbformat_minor": 2
}
