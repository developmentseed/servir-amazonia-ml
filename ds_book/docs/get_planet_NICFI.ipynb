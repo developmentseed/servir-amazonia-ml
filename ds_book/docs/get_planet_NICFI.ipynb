{
  "nbformat": 4,
  "nbformat_minor": 0,
  "metadata": {
    "kernelspec": {
      "name": "python3",
      "display_name": "Python 3"
    },
    "language_info": {
      "codemirror_mode": {
        "name": "ipython",
        "version": 3
      },
      "file_extension": ".py",
      "mimetype": "text/x-python",
      "name": "python",
      "nbconvert_exporter": "python",
      "pygments_lexer": "ipython3",
      "version": "3.6.8"
    },
    "colab": {
      "name": "Get_Planet_NICFI.ipynb",
      "provenance": [],
      "collapsed_sections": [],
      "machine_shape": "hm"
    },
    "accelerator": "GPU"
  },
  "cells": [
    {
      "cell_type": "markdown",
      "metadata": {
        "id": "MYe-1iFbo3dQ"
      },
      "source": [
        "# Access and mosaic Planet NICFI monthly basemaps"
      ]
    },
    {
      "cell_type": "markdown",
      "metadata": {
        "id": "8wLP8n9tvVwD"
      },
      "source": [
        "## Setup Notebook"
      ]
    },
    {
      "cell_type": "code",
      "metadata": {
        "colab": {
          "base_uri": "https://localhost:8080/"
        },
        "id": "EM1RRW8pJEsG",
        "outputId": "0c6ba37e-a8d9-4b20-cbd7-d6e198b72523"
      },
      "source": [
        "!pip install -q rasterio\n",
        "!pip install -q geopandas"
      ],
      "execution_count": 1,
      "outputs": [
        {
          "output_type": "stream",
          "name": "stdout",
          "text": [
            "\u001b[K     |████████████████████████████████| 19.3 MB 135 kB/s \n",
            "\u001b[K     |████████████████████████████████| 1.0 MB 8.2 MB/s \n",
            "\u001b[K     |████████████████████████████████| 15.4 MB 44.7 MB/s \n",
            "\u001b[K     |████████████████████████████████| 6.3 MB 82.2 MB/s \n",
            "\u001b[?25h"
          ]
        }
      ]
    },
    {
      "cell_type": "code",
      "metadata": {
        "id": "X-hVmWq9Okpl"
      },
      "source": [
        "# import required libraries\n",
        "import os, glob, functools, fnmatch, requests, json\n",
        "from zipfile import ZipFile\n",
        "from itertools import product\n",
        "from configparser import ConfigParser\n",
        "import urllib.request\n",
        "\n",
        "import numpy as np\n",
        "import matplotlib.pyplot as plt\n",
        "import matplotlib as mpl\n",
        "mpl.rcParams['axes.grid'] = False\n",
        "mpl.rcParams['figure.figsize'] = (12,12)\n",
        "\n",
        "import rasterio\n",
        "from rasterio.merge import merge\n",
        "from rasterio.plot import show\n",
        "import geopandas as gpd\n",
        "\n",
        "\n",
        "from IPython.display import clear_output"
      ],
      "execution_count": 8,
      "outputs": []
    },
    {
      "cell_type": "code",
      "metadata": {
        "colab": {
          "base_uri": "https://localhost:8080/"
        },
        "id": "q7r2u__KlSqe",
        "outputId": "d2fdef5d-0575-4d6b-d544-0875cd9812e3"
      },
      "source": [
        "#authenticate Google Cloud Storage\n",
        "from google.colab import auth\n",
        "auth.authenticate_user()\n",
        "print(\"...done\")"
      ],
      "execution_count": 3,
      "outputs": [
        {
          "output_type": "stream",
          "name": "stdout",
          "text": [
            "...done\n"
          ]
        }
      ]
    },
    {
      "cell_type": "code",
      "metadata": {
        "id": "bx4zlZ7SgmO_",
        "colab": {
          "base_uri": "https://localhost:8080/"
        },
        "outputId": "daa02ead-3dfc-42ac-cb6e-0f570118aaea"
      },
      "source": [
        "# mount google drive\n",
        "from google.colab import drive\n",
        "drive.mount('/content/gdrive')"
      ],
      "execution_count": 4,
      "outputs": [
        {
          "output_type": "stream",
          "name": "stdout",
          "text": [
            "Mounted at /content/gdrive\n"
          ]
        }
      ]
    },
    {
      "cell_type": "code",
      "metadata": {
        "id": "Y_UgojhBOkpe"
      },
      "source": [
        "# Set your root directory, and project level directories.\n",
        "root_dir = '/content/gdrive/My Drive/servir-tf/' \n",
        "terrabio_dir = root_dir+'terrabio'\n",
        "rami_dir = root_dir+'rami'"
      ],
      "execution_count": 5,
      "outputs": []
    },
    {
      "cell_type": "code",
      "metadata": {
        "id": "WS1j29Lekr_g"
      },
      "source": [
        "dirs = [root_dir, terrabio_dir, rami_dir]\n",
        "for dir in dirs:\n",
        "  if not os.path.exists(dir):\n",
        "    os.makedirs(root_dir)"
      ],
      "execution_count": 6,
      "outputs": []
    },
    {
      "cell_type": "code",
      "metadata": {
        "colab": {
          "base_uri": "https://localhost:8080/"
        },
        "id": "pdv41_FVqJdU",
        "outputId": "c6673a7c-85e2-4813-d91c-923290e632db"
      },
      "source": [
        "%cd $root_dir"
      ],
      "execution_count": 20,
      "outputs": [
        {
          "output_type": "stream",
          "name": "stdout",
          "text": [
            "/content/gdrive/My Drive/servir-tf\n"
          ]
        }
      ]
    },
    {
      "cell_type": "markdown",
      "metadata": {
        "id": "1SQFS5RznHB2"
      },
      "source": [
        "#### Let's download the RAMI AOI vector file."
      ]
    },
    {
      "cell_type": "code",
      "metadata": {
        "colab": {
          "base_uri": "https://localhost:8080/"
        },
        "id": "XDhb6E3slhY3",
        "outputId": "d889e6dd-2941-4126-cd55-e1927a71ff17"
      },
      "source": [
        "# Imports the Google Cloud client library\n",
        "from google.cloud import storage\n",
        "\n",
        "# Instantiates a client\n",
        "project = 'servirtensorflow'\n",
        "storage_client = storage.Client(project=project)\n",
        "\n",
        "# The name for the new bucket\n",
        "bucket_name = \"dev-seed-workshop\"\n",
        "\n",
        "rami_data_dir = rami_dir+'/data/'\n",
        "rami_gcs_to_local_dir = rami_data_dir+'gcs/'\n",
        "prefix = 'rami/data/Blocks/'\n",
        "local_dir = rami_gcs_to_local_dir+'Blocks/'\n",
        "dirs = [rami_data_dir, rami_gcs_to_local_dir, local_dir]\n",
        "for dir in dirs:\n",
        "  if not os.path.exists(dir):\n",
        "    os.makedirs(dir)\n",
        "\n",
        "\n",
        "bucket_name = \"dev-seed-workshop\"\n",
        "bucket = storage_client.get_bucket(bucket_name)\n",
        "blobs = bucket.list_blobs(prefix=prefix)  # Get list of files\n",
        "for blob in blobs:\n",
        "    print(blob)\n",
        "    filename = blob.name.replace('/', '_') \n",
        "    filename_split = os.path.splitext(filename)\n",
        "    filename_zero, fileext = filename_split\n",
        "    basename = os.path.basename(filename_zero)\n",
        "    filename = 'Blocks'\n",
        "    blob.download_to_filename(local_dir + filename + fileext)  # Download\n",
        "    print(blob, filename + fileext)"
      ],
      "execution_count": 24,
      "outputs": [
        {
          "output_type": "stream",
          "name": "stdout",
          "text": [
            "<Blob: dev-seed-workshop, rami/data/Blocks/Blocks/Blocks.cpg, 1637264951785014>\n",
            "<Blob: dev-seed-workshop, rami/data/Blocks/Blocks/Blocks.cpg, 1637264951785014> Blocks.cpg\n",
            "<Blob: dev-seed-workshop, rami/data/Blocks/Blocks/Blocks.dbf, 1637264951817858>\n",
            "<Blob: dev-seed-workshop, rami/data/Blocks/Blocks/Blocks.dbf, 1637264951817858> Blocks.dbf\n",
            "<Blob: dev-seed-workshop, rami/data/Blocks/Blocks/Blocks.fix, 1637264951832266>\n",
            "<Blob: dev-seed-workshop, rami/data/Blocks/Blocks/Blocks.fix, 1637264951832266> Blocks.fix\n",
            "<Blob: dev-seed-workshop, rami/data/Blocks/Blocks/Blocks.prj, 1637264951801837>\n",
            "<Blob: dev-seed-workshop, rami/data/Blocks/Blocks/Blocks.prj, 1637264951801837> Blocks.prj\n",
            "<Blob: dev-seed-workshop, rami/data/Blocks/Blocks/Blocks.shp, 1637264951794288>\n",
            "<Blob: dev-seed-workshop, rami/data/Blocks/Blocks/Blocks.shp, 1637264951794288> Blocks.shp\n",
            "<Blob: dev-seed-workshop, rami/data/Blocks/Blocks/Blocks.shx, 1637264951768348>\n",
            "<Blob: dev-seed-workshop, rami/data/Blocks/Blocks/Blocks.shx, 1637264951768348> Blocks.shx\n"
          ]
        }
      ]
    },
    {
      "cell_type": "code",
      "metadata": {
        "id": "gkjstjyFHqos",
        "colab": {
          "base_uri": "https://localhost:8080/"
        },
        "outputId": "98493d7b-bf02-422a-d6b5-95794941bcb7"
      },
      "source": [
        "# go to RAMI directory\n",
        "%cd $rami_gcs_to_local_dir "
      ],
      "execution_count": 25,
      "outputs": [
        {
          "output_type": "stream",
          "name": "stdout",
          "text": [
            "/content/gdrive/My Drive/servir-tf/rami/data/gcs\n"
          ]
        }
      ]
    },
    {
      "cell_type": "code",
      "metadata": {
        "colab": {
          "base_uri": "https://localhost:8080/"
        },
        "id": "bISuz8vNn206",
        "outputId": "6f32dc69-3272-4492-f544-146a21fcea50"
      },
      "source": [
        "!ls Blocks/"
      ],
      "execution_count": 26,
      "outputs": [
        {
          "output_type": "stream",
          "name": "stdout",
          "text": [
            "Blocks.cpg  Blocks.dbf\tBlocks.fix  Blocks.prj\tBlocks.shp  Blocks.shx\n"
          ]
        }
      ]
    },
    {
      "cell_type": "code",
      "metadata": {
        "id": "2ral3o4aJxMO"
      },
      "source": [
        "gdf = gpd.read_file('Blocks/Blocks.shp')"
      ],
      "execution_count": 27,
      "outputs": []
    },
    {
      "cell_type": "code",
      "metadata": {
        "id": "1YfOTrSDJ3rc"
      },
      "source": [
        "bbox_peru = gdf.geometry.total_bounds"
      ],
      "execution_count": 28,
      "outputs": []
    },
    {
      "cell_type": "code",
      "metadata": {
        "id": "Xqg1N1B9uH2q"
      },
      "source": [
        "#setup API KEY\n",
        "config = ConfigParser()\n",
        "configFilePath = '/content/gdrive/My Drive/planet_api.cfg'\n",
        "with open(configFilePath) as f:\n",
        "    config.read_file(f)\n",
        "API_KEY = config.get('credentials', 'api_key')\n",
        "PLANET_API_KEY = API_KEY # <= insert API key here \n",
        "#setup Planet base URL\n",
        "API_URL = \"https://api.planet.com/basemaps/v1/mosaics\"\n",
        "#setup session\n",
        "session = requests.Session()\n",
        "#authenticate\n",
        "session.auth = (PLANET_API_KEY, \"\") #<= change to match variable for API Key if needed"
      ],
      "execution_count": 30,
      "outputs": []
    },
    {
      "cell_type": "code",
      "metadata": {
        "colab": {
          "base_uri": "https://localhost:8080/"
        },
        "id": "woRU2rd0ugfH",
        "outputId": "fa31a429-fe91-44aa-d9d1-f08d17230a09"
      },
      "source": [
        "#set params for search using name of mosaic\n",
        "parameters = {\n",
        "    \"name__is\" :\"planet_medres_normalized_analytic_2021-08_mosaic\" # <= customize to your use case\n",
        "}\n",
        "#make get request to access mosaic from basemaps API\n",
        "res = session.get(API_URL, params = parameters)\n",
        "#response status code\n",
        "print(res.status_code)"
      ],
      "execution_count": 31,
      "outputs": [
        {
          "output_type": "stream",
          "name": "stdout",
          "text": [
            "200\n"
          ]
        }
      ]
    },
    {
      "cell_type": "code",
      "metadata": {
        "id": "Fh2G6_Zfujp-"
      },
      "source": [
        "#print metadata for mosaic\n",
        "mosaic = res.json()\n",
        "print(json.dumps(mosaic, indent=2))"
      ],
      "execution_count": null,
      "outputs": []
    },
    {
      "cell_type": "code",
      "metadata": {
        "colab": {
          "base_uri": "https://localhost:8080/"
        },
        "id": "QC_HfFs6upKz",
        "outputId": "59ef1ae5-71de-4ad0-d3dc-8c1cdd14e979"
      },
      "source": [
        "#get id\n",
        "mosaic_id = mosaic['mosaics'][0]['id']\n",
        "#get bbox for entire mosaic\n",
        "mosaic_bbox = mosaic['mosaics'][0]['bbox']\n",
        "print(\"mosaic_bbox: \", mosaic_bbox)\n",
        "print(\"bbox_peru: \", bbox_peru)\n",
        "#converting bbox to string for search params\n",
        "string_bbox = ','.join(map(str, bbox_peru)) #bbox_peru)) #mosaic_bbox))\n",
        "\n",
        "print('Mosaic id: '+ mosaic_id)"
      ],
      "execution_count": 34,
      "outputs": [
        {
          "output_type": "stream",
          "name": "stdout",
          "text": [
            "mosaic_bbox:  [-179.999999974944, -30.145127179527, 179.999999975056, 30.145127179625]\n",
            "bbox_peru:  [-70.28418783 -13.07947054 -69.78113127 -12.75607703]\n",
            "Mosaic id: ce7bad0f-a4a0-45fd-904b-eb6cc6eee373\n"
          ]
        }
      ]
    },
    {
      "cell_type": "code",
      "metadata": {
        "colab": {
          "base_uri": "https://localhost:8080/"
        },
        "id": "mrWEtasU3aNa",
        "outputId": "84f6f004-507f-4bac-b512-eb16ad6b4d01"
      },
      "source": [
        "#search for mosaic quad using AOI\n",
        "search_parameters = {\n",
        "    'bbox': string_bbox,\n",
        "    'minimal': True\n",
        "}\n",
        "#accessing quads using metadata from mosaic\n",
        "quads_url = \"{}/{}/quads\".format(API_URL, mosaic_id)\n",
        "res = session.get(quads_url, params=search_parameters, stream=True)\n",
        "print(res.status_code)"
      ],
      "execution_count": null,
      "outputs": [
        {
          "output_type": "stream",
          "name": "stdout",
          "text": [
            "200\n"
          ]
        }
      ]
    },
    {
      "cell_type": "code",
      "metadata": {
        "id": "dbAVcoQp41cK"
      },
      "source": [
        "quads = res.json()"
      ],
      "execution_count": null,
      "outputs": []
    },
    {
      "cell_type": "code",
      "metadata": {
        "id": "AgcvvbV244Ce"
      },
      "source": [
        "quads"
      ],
      "execution_count": null,
      "outputs": []
    },
    {
      "cell_type": "code",
      "metadata": {
        "id": "MYV0Bl7p76nK"
      },
      "source": [
        "quads = res.json()\n",
        "items = quads['items']\n",
        "#printing an example of quad metadata\n",
        "print(json.dumps(items[0], indent=2))"
      ],
      "execution_count": null,
      "outputs": []
    },
    {
      "cell_type": "code",
      "metadata": {
        "id": "umMIoOcL7bdg"
      },
      "source": [
        "items"
      ],
      "execution_count": null,
      "outputs": []
    },
    {
      "cell_type": "code",
      "metadata": {
        "id": "dTIMRwB36_zd"
      },
      "source": [
        "nicfi_dir = rami_dir+'082021_basemap_nicfi_lapampa/' "
      ],
      "execution_count": null,
      "outputs": []
    },
    {
      "cell_type": "code",
      "metadata": {
        "id": "QzG9kcrj6SQl"
      },
      "source": [
        "#iterate over quad download links and saving to folder by id\n",
        "for i in items:\n",
        "    link = i['_links']['download']\n",
        "    name = i['id']\n",
        "    name = name + '.tiff'\n",
        "    DIR = nicfi_dir+'quads/' # <= a directory i created, feel free to customize\n",
        "    filename = os.path.join(DIR, name)\n",
        "    #print(filename)\n",
        "\n",
        "    #checks if file already exists before s\n",
        "    if not os.path.isfile(filename):\n",
        "        urllib.request.urlretrieve(link, filename)"
      ],
      "execution_count": null,
      "outputs": []
    },
    {
      "cell_type": "markdown",
      "metadata": {
        "id": "-qcGzsz3LTIX"
      },
      "source": [
        "### Mosaic the quad tiles"
      ]
    },
    {
      "cell_type": "code",
      "metadata": {
        "colab": {
          "base_uri": "https://localhost:8080/"
        },
        "id": "2AzPqD2lXAa-",
        "outputId": "32fbdbd8-f018-4d6a-9546-ee0ed96ade47"
      },
      "source": [
        "# File and folder paths\n",
        "out_mosaic = nicfi_dir+'082021_basemap_nicfi_lapampa_Mosaic.tif'\n",
        "\n",
        "# Make a search criteria to select the DEM files\n",
        "search_criteria = \"*.tiff\"\n",
        "q = os.path.join(nicfi_dir,'quads', search_criteria)\n",
        "\n",
        "print(q)"
      ],
      "execution_count": null,
      "outputs": [
        {
          "output_type": "stream",
          "name": "stdout",
          "text": [
            "/content/gdrive/My Drive/servir-tf/rami/082021_basemap_nicfi_lapampa/quads/*.tiff\n"
          ]
        }
      ]
    },
    {
      "cell_type": "code",
      "metadata": {
        "id": "EJPzBUaRXlGF"
      },
      "source": [
        "# Get all of the quad tiles\n",
        "quad_files = glob.glob(q)"
      ],
      "execution_count": null,
      "outputs": []
    },
    {
      "cell_type": "code",
      "metadata": {
        "colab": {
          "base_uri": "https://localhost:8080/"
        },
        "id": "uSDDIpvjX5DC",
        "outputId": "c36fc234-10dc-47f2-d0fa-57daa94832e0"
      },
      "source": [
        "quad_files"
      ],
      "execution_count": null,
      "outputs": [
        {
          "output_type": "execute_result",
          "data": {
            "text/plain": [
              "['/content/gdrive/My Drive/servir-tf/rami/082021_basemap_nicfi_lapampa/quads/624-950.tiff',\n",
              " '/content/gdrive/My Drive/servir-tf/rami/082021_basemap_nicfi_lapampa/quads/625-950.tiff',\n",
              " '/content/gdrive/My Drive/servir-tf/rami/082021_basemap_nicfi_lapampa/quads/626-950.tiff',\n",
              " '/content/gdrive/My Drive/servir-tf/rami/082021_basemap_nicfi_lapampa/quads/627-950.tiff',\n",
              " '/content/gdrive/My Drive/servir-tf/rami/082021_basemap_nicfi_lapampa/quads/624-949.tiff',\n",
              " '/content/gdrive/My Drive/servir-tf/rami/082021_basemap_nicfi_lapampa/quads/625-949.tiff',\n",
              " '/content/gdrive/My Drive/servir-tf/rami/082021_basemap_nicfi_lapampa/quads/626-949.tiff',\n",
              " '/content/gdrive/My Drive/servir-tf/rami/082021_basemap_nicfi_lapampa/quads/627-949.tiff',\n",
              " '/content/gdrive/My Drive/servir-tf/rami/082021_basemap_nicfi_lapampa/quads/624-948.tiff',\n",
              " '/content/gdrive/My Drive/servir-tf/rami/082021_basemap_nicfi_lapampa/quads/625-948.tiff',\n",
              " '/content/gdrive/My Drive/servir-tf/rami/082021_basemap_nicfi_lapampa/quads/626-948.tiff',\n",
              " '/content/gdrive/My Drive/servir-tf/rami/082021_basemap_nicfi_lapampa/quads/627-948.tiff']"
            ]
          },
          "metadata": {},
          "execution_count": 52
        }
      ]
    },
    {
      "cell_type": "code",
      "metadata": {
        "id": "doLaTyTKXrG5"
      },
      "source": [
        "src_files_to_mosaic = []"
      ],
      "execution_count": null,
      "outputs": []
    },
    {
      "cell_type": "code",
      "metadata": {
        "id": "vKL3XV5MXt1Z"
      },
      "source": [
        "for f in quad_files:\n",
        "  src = rasterio.open(f)\n",
        "  src_files_to_mosaic.append(src)"
      ],
      "execution_count": null,
      "outputs": []
    },
    {
      "cell_type": "code",
      "metadata": {
        "colab": {
          "base_uri": "https://localhost:8080/"
        },
        "id": "oxfXaSAxX2me",
        "outputId": "ae28d198-4d1c-4f8f-f57f-9d2c5aacdd4a"
      },
      "source": [
        "src_files_to_mosaic"
      ],
      "execution_count": null,
      "outputs": [
        {
          "output_type": "execute_result",
          "data": {
            "text/plain": [
              "[<open DatasetReader name='/content/gdrive/My Drive/servir-tf/rami/082021_basemap_nicfi_lapampa/quads/624-950.tiff' mode='r'>,\n",
              " <open DatasetReader name='/content/gdrive/My Drive/servir-tf/rami/082021_basemap_nicfi_lapampa/quads/625-950.tiff' mode='r'>,\n",
              " <open DatasetReader name='/content/gdrive/My Drive/servir-tf/rami/082021_basemap_nicfi_lapampa/quads/626-950.tiff' mode='r'>,\n",
              " <open DatasetReader name='/content/gdrive/My Drive/servir-tf/rami/082021_basemap_nicfi_lapampa/quads/627-950.tiff' mode='r'>,\n",
              " <open DatasetReader name='/content/gdrive/My Drive/servir-tf/rami/082021_basemap_nicfi_lapampa/quads/624-949.tiff' mode='r'>,\n",
              " <open DatasetReader name='/content/gdrive/My Drive/servir-tf/rami/082021_basemap_nicfi_lapampa/quads/625-949.tiff' mode='r'>,\n",
              " <open DatasetReader name='/content/gdrive/My Drive/servir-tf/rami/082021_basemap_nicfi_lapampa/quads/626-949.tiff' mode='r'>,\n",
              " <open DatasetReader name='/content/gdrive/My Drive/servir-tf/rami/082021_basemap_nicfi_lapampa/quads/627-949.tiff' mode='r'>,\n",
              " <open DatasetReader name='/content/gdrive/My Drive/servir-tf/rami/082021_basemap_nicfi_lapampa/quads/624-948.tiff' mode='r'>,\n",
              " <open DatasetReader name='/content/gdrive/My Drive/servir-tf/rami/082021_basemap_nicfi_lapampa/quads/625-948.tiff' mode='r'>,\n",
              " <open DatasetReader name='/content/gdrive/My Drive/servir-tf/rami/082021_basemap_nicfi_lapampa/quads/626-948.tiff' mode='r'>,\n",
              " <open DatasetReader name='/content/gdrive/My Drive/servir-tf/rami/082021_basemap_nicfi_lapampa/quads/627-948.tiff' mode='r'>]"
            ]
          },
          "metadata": {},
          "execution_count": 55
        }
      ]
    },
    {
      "cell_type": "code",
      "metadata": {
        "id": "BqC3IbFkX0SR"
      },
      "source": [
        "# Create the mosaic\n",
        "mosaic, out_trans = merge(src_files_to_mosaic)"
      ],
      "execution_count": null,
      "outputs": []
    },
    {
      "cell_type": "code",
      "metadata": {
        "id": "jPVxtut9YMyl"
      },
      "source": [
        "out_meta = src.meta.copy()"
      ],
      "execution_count": null,
      "outputs": []
    },
    {
      "cell_type": "code",
      "metadata": {
        "id": "E3ueLzz9YRQ8"
      },
      "source": [
        "out_meta.update({\"driver\": \"GTiff\",\n",
        "                 \"height\": mosaic.shape[1],\n",
        "                 \"width\": mosaic.shape[2],\n",
        "                 \"transform\": out_trans\n",
        "                  }\n",
        ")"
      ],
      "execution_count": null,
      "outputs": []
    },
    {
      "cell_type": "code",
      "metadata": {
        "id": "jB1llW0vYbhv"
      },
      "source": [
        "# Write the mosaic to raster file\n",
        "with rasterio.open(out_mosaic, \"w\", **out_meta) as dest:\n",
        "    dest.write(mosaic)"
      ],
      "execution_count": null,
      "outputs": []
    },
    {
      "cell_type": "code",
      "metadata": {
        "colab": {
          "base_uri": "https://localhost:8080/",
          "height": 35
        },
        "id": "FfGN-TIMY28z",
        "outputId": "7a110436-0124-4eb7-a36c-311a98228ef0"
      },
      "source": [
        "out_mosaic"
      ],
      "execution_count": null,
      "outputs": [
        {
          "output_type": "execute_result",
          "data": {
            "application/vnd.google.colaboratory.intrinsic+json": {
              "type": "string"
            },
            "text/plain": [
              "'/content/gdrive/My Drive/servir-tf/rami/082021_basemap_nicfi_lapampa/082021_basemap_nicfi_lapampa_Mosaic.tif'"
            ]
          },
          "metadata": {},
          "execution_count": 63
        }
      ]
    },
    {
      "cell_type": "code",
      "metadata": {
        "colab": {
          "base_uri": "https://localhost:8080/"
        },
        "id": "ca5Ohr7QY6Wj",
        "outputId": "e30f21da-9635-4f6f-b616-76d155fb5234"
      },
      "source": [
        "!ls '/content/gdrive/My Drive/servir-tf/rami/082021_basemap_nicfi_lapampa/082021_basemap_nicfi_lapampa_Mosaic.tif'"
      ],
      "execution_count": 35,
      "outputs": [
        {
          "output_type": "stream",
          "name": "stdout",
          "text": [
            "'/content/gdrive/My Drive/servir-tf/rami/082021_basemap_nicfi_lapampa/082021_basemap_nicfi_lapampa_Mosaic.tif'\n"
          ]
        }
      ]
    },
    {
      "cell_type": "markdown",
      "metadata": {
        "id": "Q9s9lnJ4xEkY"
      },
      "source": [
        "#### Plot the image composite"
      ]
    },
    {
      "cell_type": "code",
      "metadata": {
        "colab": {
          "base_uri": "https://localhost:8080/",
          "height": 305
        },
        "id": "pyh5u6NXu598",
        "outputId": "9b064c7b-fc83-43af-9e51-d0ce162b7002"
      },
      "source": [
        "src = rasterio.open(out_mosaic)\n",
        "\n",
        "show(src)"
      ],
      "execution_count": 7,
      "outputs": [
        {
          "output_type": "display_data",
          "data": {
            "image/png": "[encoded data removed]",
            "text/plain": [
              "<Figure size 432x288 with 1 Axes>"
            ]
          },
          "metadata": {
            "needs_background": "light"
          }
        },
        {
          "output_type": "execute_result",
          "data": {
            "text/plain": [
              "<matplotlib.axes._subplots.AxesSubplot at 0x7fbb50b91b10>"
            ]
          },
          "metadata": {},
          "execution_count": 7
        }
      ]
    }
  ]
}