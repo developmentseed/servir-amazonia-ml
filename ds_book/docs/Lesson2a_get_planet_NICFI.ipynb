{
  "cells": [
    {
      "cell_type": "markdown",
      "metadata": {
        "id": "MYe-1iFbo3dQ"
      },
      "source": [
        "# Access and mosaic Planet NICFI monthly basemaps"
      ]
    },
    {
      "cell_type": "markdown",
      "metadata": {
        "id": "DD3sBbkUqW9H"
      },
      "source": [
        "> A guide for accessing monthly Planet NICFI basemaps, selecting data by a defined AOI and mosaicing to produce a single image. "
      ]
    },
    {
      "cell_type": "markdown",
      "metadata": {
        "id": "k2Bk1PU7S-xn"
      },
      "source": [
        "You will need a configuration file named `planet_api.cfg` (simple text file with `.cfg` extension will do) to run this notebook. It should be located in your `My Drive` folder.\n",
        "\n",
        "The contents of the file should reflect the template below, swapping in the API access key that you should have receieved once you signed up for and subscribed to the Planet NICFI program. Please visit https://www.planet.com/nicfi/ to sign up if you have not already. \n",
        "\n",
        "\n",
        "\n",
        "```\n",
        "[credentials]\n",
        "api_key = xxxxxxxxxxxxxxxxx\n",
        "```\n",
        "\n",
        "\n",
        "\n",
        "\n"
      ]
    },
    {
      "cell_type": "markdown",
      "metadata": {
        "id": "8wLP8n9tvVwD"
      },
      "source": [
        "## Setup Notebook"
      ]
    },
    {
      "cell_type": "markdown",
      "metadata": {
        "id": "toBdgRL0O6bM"
      },
      "source": [
        "```{admonition} **Version control**\n",
        "Colab updates without warning to users, which can cause notebooks to break. Therefore, we are pinning library versions.\n",
        "``` "
      ]
    },
    {
      "cell_type": "code",
      "execution_count": null,
      "metadata": {
        "id": "EM1RRW8pJEsG"
      },
      "outputs": [],
      "source": [
        "!pip install -q rasterio==1.2.10\n",
        "!pip install -q geopandas==0.10.2\n",
        "!pip install -q shapely==1.8.0"
      ]
    },
    {
      "cell_type": "code",
      "execution_count": null,
      "metadata": {
        "id": "X-hVmWq9Okpl"
      },
      "outputs": [],
      "source": [
        "# import required libraries\n",
        "import os, glob, functools, fnmatch, requests, json\n",
        "from zipfile import ZipFile\n",
        "from itertools import product\n",
        "from configparser import ConfigParser\n",
        "import urllib.request\n",
        "\n",
        "import numpy as np\n",
        "import matplotlib.pyplot as plt\n",
        "import matplotlib as mpl\n",
        "mpl.rcParams['axes.grid'] = False\n",
        "mpl.rcParams['figure.figsize'] = (12,12)\n",
        "\n",
        "import rasterio\n",
        "from rasterio.merge import merge\n",
        "from rasterio.plot import show\n",
        "import geopandas as gpd\n",
        "from folium import Map, GeoJson, Figure\n",
        "from shapely.geometry import box\n",
        "\n",
        "from IPython.display import clear_output"
      ]
    },
    {
      "cell_type": "code",
      "execution_count": null,
      "metadata": {
        "id": "StrjoJhgHYTq"
      },
      "outputs": [],
      "source": [
        "print(\"rasterio version: \", rasterio.__version__, \"| geopandas version: \", gpd.__version__)"
      ]
    },
    {
      "cell_type": "code",
      "execution_count": null,
      "metadata": {
        "id": "Y_UgojhBOkpe"
      },
      "outputs": [],
      "source": [
        "# set your root directory and tiled data folders\n",
        "if 'google.colab' in str(get_ipython()):\n",
        "    # mount google drive\n",
        "    from google.colab import drive\n",
        "    drive.mount('/content/gdrive')\n",
        "    root_dir = '/content/gdrive/My Drive/servir-tf-devseed/' \n",
        "    workshop_dir = '/content/gdrive/My Drive/servir-tf-devseed-workshop'\n",
        "    print('Running on Colab')\n",
        "else:\n",
        "    root_dir = os.path.abspath(\"./data/servir-tf-devseed\")\n",
        "    workshop_dir = os.path.abspath('./servir-tf-devseed-workshop')\n",
        "    print(f'Not running on Colab, data needs to be downloaded locally at {os.path.abspath(root_dir)}')\n",
        "\n",
        "if (not os.path.isdir(workshop_dir)):\n",
        "  os.mkdir(workshop_dir)\n",
        "terrabio_dir = os.path.join(workshop_dir,'terrabio')\n",
        "rami_dir = os.path.join(workshop_dir,'rami')\n",
        "# Make subdirectories for each project\n",
        "dirs = [terrabio_dir, rami_dir]\n",
        "for dir in dirs:\n",
        "  if not os.path.exists(dir):\n",
        "    os.makedirs(dir)"
      ]
    },
    {
      "cell_type": "code",
      "execution_count": null,
      "metadata": {
        "id": "pdv41_FVqJdU"
      },
      "outputs": [],
      "source": [
        "# Go to root folder\n",
        "%cd $workshop_dir"
      ]
    },
    {
      "cell_type": "markdown",
      "metadata": {
        "id": "-vbhcUj9M5pf"
      },
      "source": [
        "```{admonition} **GCS note!**\n",
        "We won't be using Google Cloud Storage to download data, but here is a code snippet to show how to practically do so with the RAMI \"Blocks\" gridded AOI shapefile. This code works if you have access to the \"servirtensorflow\" project on GCP.\n",
        "```"
      ]
    },
    {
      "cell_type": "markdown",
      "metadata": {
        "id": "6VGCaG-uK49K"
      },
      "source": [
        "```python\n",
        "#authenticate Google Cloud Storage\n",
        "from google.colab import auth\n",
        "auth.authenticate_user()\n",
        "print(\"Authenticated Google Gloud access.\")\n",
        "\n",
        "\n",
        "# Imports the Google Cloud client library\n",
        "from google.cloud import storage\n",
        "\n",
        "# Instantiates a client\n",
        "project = 'servirtensorflow'\n",
        "storage_client = storage.Client(project=project)\n",
        "\n",
        "# The name for the new bucket\n",
        "bucket_name = \"dev-seed-workshop\"\n",
        "\n",
        "rami_data_dir = os.path.join(rami_dir,'/data/')\n",
        "rami_gcs_to_local_dir = os.path.join(rami_data_dir,'gcs/')\n",
        "prefix = 'rami/data/Blocks/'\n",
        "local_dir = os.path.join(rami_gcs_to_local_dir,'Blocks/')\n",
        "dirs = [rami_data_dir, rami_gcs_to_local_dir, local_dir]\n",
        "for dir in dirs:\n",
        "  if not os.path.exists(dir):\n",
        "    os.makedirs(dir)\n",
        "\n",
        "\n",
        "bucket_name = \"dev-seed-workshop\"\n",
        "bucket = storage_client.get_bucket(bucket_name)\n",
        "blobs = bucket.list_blobs(prefix=prefix)  # Get list of files\n",
        "for blob in blobs:\n",
        "    print(blob)\n",
        "    filename = blob.name.replace('/', '_') \n",
        "    filename_split = os.path.splitext(filename)\n",
        "    filename_zero, fileext = filename_split\n",
        "    basename = os.path.basename(filename_zero)\n",
        "    filename = 'Blocks'\n",
        "    blob.download_to_filename(os.path.join(local_dir, \"%s%s\" % (basename, fileext)))   # Download \n",
        "    print(blob, \"%s%s\" % (basename, fileext))\n",
        "\n",
        "```\n",
        "Output:\n",
        "```\n",
        "<Blob: dev-seed-workshop, rami/data/Blocks/Blocks/Blocks.cpg, 1637264951785014>\n",
        "<Blob: dev-seed-workshop, rami/data/Blocks/Blocks/Blocks.cpg, 1637264951785014> Blocks.cpg\n",
        "<Blob: dev-seed-workshop, rami/data/Blocks/Blocks/Blocks.dbf, 1637264951817858>\n",
        "<Blob: dev-seed-workshop, rami/data/Blocks/Blocks/Blocks.dbf, 1637264951817858> Blocks.dbf\n",
        "<Blob: dev-seed-workshop, rami/data/Blocks/Blocks/Blocks.fix, 1637264951832266>\n",
        "<Blob: dev-seed-workshop, rami/data/Blocks/Blocks/Blocks.fix, 1637264951832266> Blocks.fix\n",
        "<Blob: dev-seed-workshop, rami/data/Blocks/Blocks/Blocks.prj, 1637264951801837>\n",
        "<Blob: dev-seed-workshop, rami/data/Blocks/Blocks/Blocks.prj, 1637264951801837> Blocks.prj\n",
        "<Blob: dev-seed-workshop, rami/data/Blocks/Blocks/Blocks.shp, 1637264951794288>\n",
        "<Blob: dev-seed-workshop, rami/data/Blocks/Blocks/Blocks.shp, 1637264951794288> Blocks.shp\n",
        "<Blob: dev-seed-workshop, rami/data/Blocks/Blocks/Blocks.shx, 1637264951768348>\n",
        "<Blob: dev-seed-workshop, rami/data/Blocks/Blocks/Blocks.shx, 1637264951768348> Blocks.shx\n",
        "````"
      ]
    },
    {
      "cell_type": "markdown",
      "metadata": {
        "id": "AD1UFYpeaz7v"
      },
      "source": [
        "### Get search parameters\n",
        "- Read the AOI from the shared google drive folder into a Geopandas dataframe.\n",
        "- Get AOI bounds and centroid.\n",
        "- Authenticate with Planet NICFI API key.\n",
        "- Choose mosaic based on month/year of interest.\n"
      ]
    },
    {
      "cell_type": "code",
      "execution_count": null,
      "metadata": {
        "id": "1YfOTrSDJ3rc"
      },
      "outputs": [],
      "source": [
        "# Load the shapefile into a geopandas dataframe (for more info see: https://geopandas.org/en/stable/)\n",
        "gdf = gpd.read_file(os.path.join(root_dir,'Blocks', 'Blocks.shp'))\n",
        "# Get AOI bounds\n",
        "bbox_peru = gdf.geometry.total_bounds\n",
        "# Get AOI centroid\n",
        "centroid_peru = [box(*bbox_peru).centroid.x, box(*bbox_peru).centroid.y]"
      ]
    },
    {
      "cell_type": "code",
      "execution_count": null,
      "metadata": {
        "id": "Xqg1N1B9uH2q"
      },
      "outputs": [],
      "source": [
        "# authenticate with Planet NICFI API KEY\n",
        "config = ConfigParser()\n",
        "configFilePath = '/content/gdrive/My Drive/planet_api.cfg'\n",
        "with open(configFilePath) as f:\n",
        "    config.read_file(f)\n",
        "API_KEY = config.get('credentials', 'api_key')\n",
        "PLANET_API_KEY = API_KEY # <= insert API key here \n",
        "#setup Planet base URL\n",
        "API_URL = \"https://api.planet.com/basemaps/v1/mosaics\"\n",
        "#setup session\n",
        "session = requests.Session()\n",
        "#authenticate\n",
        "session.auth = (PLANET_API_KEY, \"\") #<= change to match variable for API Key if needed"
      ]
    },
    {
      "cell_type": "markdown",
      "metadata": {
        "id": "Cd043idQcjn6"
      },
      "source": [
        "```{important}\n",
        "In the following cell, the **name__is** parameter is the basemap name. It is only differentiable by the time range in the name.\n",
        "\n",
        "E.g. `planet_medres_normalized_analytic_2021-08_mosaic` is for August, 2020.\n",
        "\n",
        " \n",
        "```"
      ]
    },
    {
      "cell_type": "code",
      "execution_count": null,
      "metadata": {
        "id": "woRU2rd0ugfH"
      },
      "outputs": [],
      "source": [
        "#set params for search using name of mosaic\n",
        "parameters = {\n",
        "    \"name__is\" :\"planet_medres_normalized_analytic_2021-08_mosaic\" # <= customized to month/year of interest\n",
        "}\n",
        "#make get request to access mosaic from basemaps API\n",
        "res = session.get(API_URL, params = parameters)\n",
        "#response status code\n",
        "print(res.status_code)"
      ]
    },
    {
      "cell_type": "code",
      "execution_count": null,
      "metadata": {
        "id": "Fh2G6_Zfujp-"
      },
      "outputs": [],
      "source": [
        "#print metadata for mosaic\n",
        "mosaic = res.json()\n",
        "#print(\"mosaic metadata (this will expose your API key so be careful about if/where you uncomment this line): \", json.dumps(mosaic, indent=2))"
      ]
    },
    {
      "cell_type": "code",
      "execution_count": null,
      "metadata": {
        "id": "QC_HfFs6upKz"
      },
      "outputs": [],
      "source": [
        "#get id\n",
        "mosaic_id = mosaic['mosaics'][0]['id']\n",
        "#get bbox for entire mosaic\n",
        "mosaic_bbox = mosaic['mosaics'][0]['bbox']\n",
        "print(\"mosaic_bbox: \", mosaic_bbox)\n",
        "print(\"bbox_peru: \", bbox_peru)\n",
        "#converting bbox to string for search params\n",
        "string_bbox = ','.join(map(str, bbox_peru)) #bbox_peru)) #mosaic_bbox))\n",
        "\n",
        "print('Mosaic id: ', mosaic_id)"
      ]
    },
    {
      "cell_type": "markdown",
      "metadata": {
        "id": "89FHzXX_abam"
      },
      "source": [
        "#### Plot the gridded AOI. "
      ]
    },
    {
      "cell_type": "code",
      "execution_count": null,
      "metadata": {
        "id": "WIR0iwfaUqVk"
      },
      "outputs": [],
      "source": [
        "m = Map(tiles=\"Stamen Terrain\",\n",
        "        control_scale=True,\n",
        "        location = centroid_peru,\n",
        "        min_lon=-70.28418783,\n",
        "        max_lon=-69.78113127,\n",
        "        min_lat=-13.07947054,\n",
        "        max_lat=-12.75607703,\n",
        "        max_bounds=True,\n",
        "        zoom_start = 10,\n",
        "        max_zoom = 8,\n",
        "        min_zoom =6,\n",
        "        width = '100%',\n",
        "        height = '100%',\n",
        "        zoom_control=False )\n",
        "GeoJson(gdf).add_to(m)\n",
        "Figure(width=500, height=300).add_child(m)"
      ]
    },
    {
      "cell_type": "markdown",
      "metadata": {
        "id": "UX8FhgHioe9f"
      },
      "source": [
        "### Request the quad tiles fitting the search parameters"
      ]
    },
    {
      "cell_type": "code",
      "execution_count": null,
      "metadata": {
        "id": "mrWEtasU3aNa"
      },
      "outputs": [],
      "source": [
        "#search for mosaic quad using AOI\n",
        "search_parameters = {\n",
        "    'bbox': string_bbox,\n",
        "    'minimal': True\n",
        "}\n",
        "#accessing quads using metadata from mosaic\n",
        "quads_url = \"{}/{}/quads\".format(API_URL, mosaic_id)\n",
        "res = session.get(quads_url, params=search_parameters, stream=True)\n",
        "print(res.status_code)"
      ]
    },
    {
      "cell_type": "code",
      "execution_count": null,
      "metadata": {
        "id": "dbAVcoQp41cK"
      },
      "outputs": [],
      "source": [
        "quads = res.json()"
      ]
    },
    {
      "cell_type": "code",
      "execution_count": null,
      "metadata": {
        "id": "MYV0Bl7p76nK"
      },
      "outputs": [],
      "source": [
        "quads = res.json()\n",
        "items = quads['items']\n",
        "#printing an example of quad metadata\n",
        "#print(\"quad tiles metadata (this will expose your API key so be careful about if/where you uncomment this line): \", json.dumps(items[0], indent=2))"
      ]
    },
    {
      "cell_type": "markdown",
      "metadata": {
        "id": "dYWCZbQFhEcK"
      },
      "source": [
        "#### Plot the requested quad tiles. "
      ]
    },
    {
      "cell_type": "code",
      "execution_count": null,
      "metadata": {
        "id": "WPOyrAJ9fi1A"
      },
      "outputs": [],
      "source": [
        "for item, i in zip(items, range(len(items))):\n",
        "  quad_box = item[\"bbox\"]\n",
        "  GeoJson(box(*quad_box)).add_to(m)\n",
        "Figure(width=500, height=300).add_child(m)"
      ]
    },
    {
      "cell_type": "code",
      "execution_count": null,
      "metadata": {
        "id": "dTIMRwB36_zd"
      },
      "outputs": [],
      "source": [
        "# Set directory for downloading the quad tiles to\n",
        "nicfi_dir = os.path.join(rami_dir,'082021_basemap_nicfi_lapampa/') \n",
        "quads_dir = os.path.join(nicfi_dir,'quads/')\n",
        "dirs = [nicfi_dir, quads_dir]\n",
        "for dir in dirs:\n",
        "  if not os.path.exists(dir):\n",
        "    os.makedirs(dir)"
      ]
    },
    {
      "cell_type": "code",
      "execution_count": null,
      "metadata": {
        "id": "QzG9kcrj6SQl"
      },
      "outputs": [],
      "source": [
        "#iterate over quad download links and saving to folder by id\n",
        "for i in items:\n",
        "    link = i['_links']['download']\n",
        "    name = i['id']\n",
        "    name = name + '.tiff'\n",
        "    DIR = quads_dir\n",
        "    filename = os.path.join(DIR, name)\n",
        "    #print(filename)\n",
        "\n",
        "    #checks if file already exists before s\n",
        "    if not os.path.isfile(filename):\n",
        "        urllib.request.urlretrieve(link, filename)"
      ]
    },
    {
      "cell_type": "markdown",
      "metadata": {
        "id": "-qcGzsz3LTIX"
      },
      "source": [
        "### Mosaic the quad tiles"
      ]
    },
    {
      "cell_type": "code",
      "execution_count": null,
      "metadata": {
        "id": "2AzPqD2lXAa-"
      },
      "outputs": [],
      "source": [
        "# File and folder paths\n",
        "out_mosaic = os.path.join(nicfi_dir,'082021_basemap_nicfi_lapampa_Mosaic.tif')\n",
        "\n",
        "# Make a search criteria to select the quad tile files\n",
        "search_criteria = \"*.tiff\"\n",
        "q = os.path.join(nicfi_dir,'quads', search_criteria)\n",
        "\n",
        "print(q)"
      ]
    },
    {
      "cell_type": "code",
      "execution_count": null,
      "metadata": {
        "id": "EJPzBUaRXlGF"
      },
      "outputs": [],
      "source": [
        "# Get all of the quad tiles\n",
        "quad_files = glob.glob(q)"
      ]
    },
    {
      "cell_type": "code",
      "source": [
        "quad_files"
      ],
      "metadata": {
        "id": "Ygmp0sLnBawj"
      },
      "execution_count": null,
      "outputs": []
    },
    {
      "cell_type": "code",
      "execution_count": null,
      "metadata": {
        "id": "doLaTyTKXrG5"
      },
      "outputs": [],
      "source": [
        "src_files_to_mosaic = []"
      ]
    },
    {
      "cell_type": "code",
      "execution_count": null,
      "metadata": {
        "id": "vKL3XV5MXt1Z"
      },
      "outputs": [],
      "source": [
        "for f in quad_files:\n",
        "  src = rasterio.open(f)\n",
        "  src_files_to_mosaic.append(src)"
      ]
    },
    {
      "cell_type": "code",
      "execution_count": null,
      "metadata": {
        "id": "BqC3IbFkX0SR"
      },
      "outputs": [],
      "source": [
        "# Create the mosaic\n",
        "mosaic, out_trans = merge(src_files_to_mosaic)"
      ]
    },
    {
      "cell_type": "code",
      "execution_count": null,
      "metadata": {
        "id": "jPVxtut9YMyl"
      },
      "outputs": [],
      "source": [
        "out_meta = src.meta.copy()\n",
        "out_meta.update({\"driver\": \"GTiff\",\n",
        "                 \"height\": mosaic.shape[1],\n",
        "                 \"width\": mosaic.shape[2],\n",
        "                 \"transform\": out_trans\n",
        "                  }\n",
        ")"
      ]
    },
    {
      "cell_type": "code",
      "execution_count": null,
      "metadata": {
        "id": "jB1llW0vYbhv"
      },
      "outputs": [],
      "source": [
        "# Write the mosaic to raster file\n",
        "with rasterio.open(out_mosaic, \"w\", **out_meta) as dest:\n",
        "    dest.write(mosaic)"
      ]
    },
    {
      "cell_type": "code",
      "execution_count": null,
      "metadata": {
        "id": "FfGN-TIMY28z"
      },
      "outputs": [],
      "source": [
        "out_mosaic"
      ]
    },
    {
      "cell_type": "markdown",
      "metadata": {
        "id": "Q9s9lnJ4xEkY"
      },
      "source": [
        "#### Plot the mosaic"
      ]
    },
    {
      "cell_type": "code",
      "execution_count": null,
      "metadata": {
        "id": "WqSVhZnhJMdT"
      },
      "outputs": [],
      "source": [
        "src = rasterio.open(out_mosaic)\n",
        "\n",
        "show(src)"
      ]
    }
  ],
  "metadata": {
    "accelerator": "GPU",
    "colab": {
      "collapsed_sections": [],
      "machine_shape": "hm",
      "name": "Get_Planet_NICFI.ipynb",
      "provenance": []
    },
    "kernelspec": {
      "display_name": "Python 3",
      "name": "python3"
    },
    "language_info": {
      "codemirror_mode": {
        "name": "ipython",
        "version": 3
      },
      "file_extension": ".py",
      "mimetype": "text/x-python",
      "name": "python",
      "nbconvert_exporter": "python",
      "pygments_lexer": "ipython3",
      "version": "3.6.8"
    }
  },
  "nbformat": 4,
  "nbformat_minor": 0
}