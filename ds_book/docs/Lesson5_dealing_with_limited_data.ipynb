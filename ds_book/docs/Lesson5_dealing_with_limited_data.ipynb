{
 "cells": [
  {
   "cell_type": "markdown",
   "metadata": {
    "id": "MYe-1iFbo3dQ"
   },
   "source": [
    "# Dealing with limited data for semantic segmentation\n",
    "> Strategies for efficiently collecting more data to target specific areas of underperforming models and techniques to adopt to maximize utility of the data\n",
    "\n"
   ]
  },
  {
   "cell_type": "markdown",
   "metadata": {
    "id": "zYmAYTogOkpd"
   },
   "source": [
    "After we have evaluated how well a model has performed, we do one of two things:\n",
    "\n",
    "1. decide we are happy with how the model has performed on the validation set, and report the model performance on the test set (and validation set). Hooray!\n",
    "2. Diagnose issues with our model in terms of false positives or false negatives and make a plan for improving performance on classes that are underperforming.\n",
    "\n",
    "One of the most fundamental and high impact practices to improve model performance, particularly with deep learning, is to increase the overall size of the training dataset, focusing on classes that are underperforming. However, in remote sensing it is difficult and time consuming to acquire high quality training data labels, particularly compared to other domains where computer vision and machine learning techniques are used. \n",
    "\n",
    "Because of this unique difficulty when annotating geospatial imagery, we need to do two things:\n",
    "1. closely inspect our original labeled dataset for quality issues, such as mismatch with the imagery due to date, incorrect class labels, and incorrect label boundaries\n",
    "2. weigh the cost and benefits of annotating new labels or try other approaches to maximize our model's performance with the data we already have.\n",
    "\n",
    "Part 1 of this Lesson will describe considerations for setting up an annotation campaign, keeping in mind data quality issues that have come up during the RAMI and Terrabio projects.\n",
    "\n",
    "Part 2 will cover techniques for maximizing the performance of models trained with limited data, assuming label quality is sufficient.\n",
    "\n",
    "## Specific concepts that will be covered\n",
    "\n",
    "Part 1:\n",
    "* How to decide on a class hierarchy prior to an annotation campaign and what inputs should be made available to an annotator\n",
    "* How to efficiently annotate geospatial imagery for semantic segmentation (pixel-wise classification)\n",
    "* When it makes sense to annotate for instance segmentation (predictions are vectors) instead of semantic segmentation (predictions are rasters)\n",
    "* Choosing a sampling strategy that represents classes of interest\n",
    "\n",
    "Part 2:\n",
    "* Transfer Learning from pretrained models.  We'll use a pretrained U-net with a Mobilenet backbone model as an example.\n",
    "* Data augmentation, or multiplying your training data with image transforms\n",
    "\n",
    "**Audience:** This post is geared towards intermediate users who are comfortable with basic machine learning concepts. \n",
    "\n",
    "**Time Estimated**: 60-120 min"
   ]
  },
  {
   "cell_type": "markdown",
   "metadata": {},
   "source": [
    "# Part 1: Setting up an Annotation Campaign"
   ]
  },
  {
   "cell_type": "markdown",
   "metadata": {},
   "source": [
    "## Deciding what classes to annotate and what imagery to use as a basemap"
   ]
  },
  {
   "cell_type": "markdown",
   "metadata": {},
   "source": [
    "Annotating objects of interest in remotely sensed imagery is particularly challenging. Satellite images can be diffuclt to interpret and may require domain knowledge/training to annotate. The imagery that is best suited for annotation may not be in RGB format. And boundaries of the object of interest may be very complex or even mixed with surrounding pixels. "
   ]
  },
  {
   "cell_type": "markdown",
   "metadata": {},
   "source": [
    "![](./images/kakarla2021.png)"
   ]
  },
  {
   "cell_type": "markdown",
   "metadata": {},
   "source": [
    "The example above, a mangrove in Sundarban National Park, India, illustrates many of these difficulties. While rivers have relatively clear cut boundaries, flooded zones in the center of the image are more complex, with many dfferent land cover types mixed together in a close setting. When looking at the image on the left, some considerations for setting up an annotation would be:\n",
    "\n",
    "* how many classes should there be?\n",
    "    - we should identify common classes that are well represented in our imagery and that we care about\n",
    "    - we can lump classes in with the background class if they are 1) rare and 2) they are not of interest. However, if we find with our models that a class of interest is confused with a rare class that we don't care about, it might be worth annotating this class in order to more holistically test our model's performance\n",
    "    - if we are primarily interested in mapping flooded forest, we might prioritize mapping flooded forest zones as a whole (ignoring microscale differences in cover, such as areas with slightly more canopy). It may also be a good idea to annotate rivers since this class could be easily confused with flooded areas.\n",
    "* how specific should these classes be? \n",
    "    - there's always an ideal set of classes we wish we could map and what is possible with the data available\n",
    "    - some classes we wish to separate may be too spectrally similar with the data available to us\n",
    "    - a good example of this in the image above might be two different species of mangroves. With Landsat, Sentinel-2, or Planet imagery, we would not be able to map species level differences in naturally occurring mangrove trees.\n",
    "* phrased another way, is there a spectral or textural signal in the satellite imagery that annotators see when annotating?\n",
    "    - if there's no signal, we either need to get the data or refine the classes to make them more general\n",
    "    - if the spectral signal used for annotation is in a time series, labels need to be made with timestamps and the modeling approach needs to be able to incorporate time series data\n",
    "    - if there is a textural signal used in the modeling approach, the groundtruth data needs to be accurately georeferenced as polygons. CNN based models use textural methods.\n"
   ]
  },
  {
   "cell_type": "markdown",
   "metadata": {},
   "source": [
    "## Tips for efficiently annotating geospatial imagery for semantic segmentation (pixel-wise classification)"
   ]
  },
  {
   "cell_type": "markdown",
   "metadata": {},
   "source": [
    "An additional consideration for an annotation campaign is, can our annotators accurately and efficiently annotate the classes we prioritize. Let's consider the following example, where want to map urban tree cover, buildings, and parking lots.\n",
    "\n",
    "![](./images/lulc_labeling.gif)\n",
    "\n",
    "LULC classes are often directly adjacent to each other. Therefore, it can be very helpful to annotate in a platform that supports snapping edges to existing annotations and editing both in tande, as the gif demonstrates.\n",
    "\n",
    "It's also a good practice to time annotators to see how long they take to map a given area, in order to assess the cost and benefit of annotating a set of classes. This can help you decide if you need to divide an area into smaller tasks for multiple annotators to work together to finish annotating an AOI.\n",
    "\n",
    "Annotations should be reviewed by some supervisor/expert that can assess quality, diagnose issues, and work with annotators to incorporate their feedback, possibly adjusting the task or improving instruction given to annotators ahead of the annotation task"
   ]
  },
  {
   "cell_type": "markdown",
   "metadata": {},
   "source": [
    "## When it makes sense to annotate for instance segmentation (predictions are vectors) instead of semantic segmentation (predictions are rasters)\n",
    "\n",
    "The output of U-nets and other semantic segmentation models tell you the class probability (or a set of class probabilities) at a single pixel. If you're interested in estiamting total area of parking lots, or knowing all the locations of parking lot pixels, semantic segmentation will suffice.\n",
    "\n",
    "However, if you'd like to count parking lots (or agricultural fields or mines) and know the location and extent of individiual parking lots, an instance segmentation approach is required. The output of an instance segmentation approach tells you the class probabilities at each pixel as well as the object membership of a pixel. \n",
    "\n",
    "There are many ways to get to an instance segmentation output. Some deep learning models, such as Mask R-CNN, train a model end-to-end to take raster inputs and return instance segmentation outputs (which can be thought of as vectors or polygon coordinates). Another approach is to post-process the results from a semantic segmentation model to delineate polygon boundaries from a map of class probabilities or class ids."
   ]
  },
  {
   "cell_type": "markdown",
   "metadata": {},
   "source": [
    "### Choosing a sampling strategy that represents classes of interest"
   ]
  },
  {
   "cell_type": "markdown",
   "metadata": {},
   "source": [
    "Detection problems in remote sensing are unique because oftentimes we are dealing with very large, megapizxel images, but small objects of interest. Because of this, it is important to sample our annotation areas so that we capture many examples of the classes we care about detecting. A simple random sample of tiles within an AOI is most likely not the correct approach here, as it would undersample our classes of interest and lead to class imbalance. \n",
    "\n",
    "An example of this challenge is marine debris detection with Planet Labs imagery. "
   ]
  },
  {
   "cell_type": "code",
   "execution_count": 3,
   "metadata": {},
   "outputs": [
    {
     "data": {
      "text/html": [
       "\n",
       "        <iframe\n",
       "            width=\"1000\"\n",
       "            height=\"600\"\n",
       "            src=\"https://eoimages.gsfc.nasa.gov/images/imagerecords/149000/149163/microplastics_cygnss_2018268.mp4\"\n",
       "            frameborder=\"0\"\n",
       "            allowfullscreen\n",
       "            \n",
       "        ></iframe>\n",
       "        "
      ],
      "text/plain": [
       "<IPython.lib.display.IFrame at 0x7fde0412e890>"
      ]
     },
     "execution_count": 3,
     "metadata": {},
     "output_type": "execute_result"
    }
   ],
   "source": [
    "from IPython.display import IFrame\n",
    "\n",
    "IFrame(\"https://eoimages.gsfc.nasa.gov/images/imagerecords/149000/149163/microplastics_cygnss_2018268.mp4\", width=1000, height=600)"
   ]
  },
  {
   "cell_type": "markdown",
   "metadata": {},
   "source": [
    "In this case, Lilly's AOI was the entire ocean. a simple random sample of the whole ocean, or even all coastlines or major currents, would result in an overhelming amount of the background class. Instead annotation areas were targeted based on geolocated reports of marine debris. An approach DevSeed uses in a lot of projects is to try to develop as many represnetative sampels of the main class of interest as possible, and additionally develop representative samples of hard negatives (which look like the class of interest). We then control the amount of \"easy negatives\" that are introduced in the training set so that we minimize class imbalance."
   ]
  },
  {
   "cell_type": "markdown",
   "metadata": {
    "id": "8wLP8n9tvVwD"
   },
   "source": [
    "## Part 2: Limited Data Techniques\n",
    "\n",
    "We'll shift gears now to learning techniques for magnifying the impact of the data that we already have, assuming that we've considered all the questions above. To start with, we'll make sure we have our libraires installed and imported."
   ]
  },
  {
   "cell_type": "code",
   "execution_count": null,
   "metadata": {
    "id": "lYMOkBeaeuoV"
   },
   "outputs": [],
   "source": [
    "# install required libraries\n",
    "!pip install -q rasterio==1.2.10\n",
    "!pip install -q geopandas==0.10.2\n",
    "!pip install -q git+https://github.com/tensorflow/examples.git\n",
    "!pip install -q -U tfds-nightly\n",
    "!pip install -q focal-loss\n",
    "!pip install -q tensorflow-addons==0.8.3\n",
    "#!pip install -q matplotlib==3.5 # UNCOMMENT if running on LOCAL\n",
    "!pip install -q scikit-learn==1.0.1\n",
    "!pip install -q scikit-image==0.18.3\n",
    "!pip install -q tf-explain==0.3.1\n",
    "!pip install -q segmentation_models\n",
    "!pip install -q albumentations"
   ]
  },
  {
   "cell_type": "code",
   "execution_count": null,
   "metadata": {
    "id": "Y_UgojhBOkpe"
   },
   "outputs": [],
   "source": [
    "# import required libraries\n",
    "import os, glob, functools, fnmatch, io, shutil\n",
    "from zipfile import ZipFile\n",
    "from itertools import product\n",
    "\n",
    "import numpy as np\n",
    "import matplotlib.pyplot as plt\n",
    "import matplotlib as mpl\n",
    "mpl.rcParams['axes.grid'] = False\n",
    "mpl.rcParams['figure.figsize'] = (12,12)\n",
    "\n",
    "from sklearn.model_selection import train_test_split\n",
    "import matplotlib.image as mpimg\n",
    "import pandas as pd\n",
    "from PIL import Image\n",
    "\n",
    "import rasterio\n",
    "from rasterio import features, mask\n",
    "\n",
    "import geopandas as gpd\n",
    "import pandas as pd\n",
    "\n",
    "import tensorflow as tf\n",
    "from tensorflow.python.keras import layers, losses, models\n",
    "from tensorflow.python.keras import backend as K  \n",
    "import tensorflow_addons as tfa\n",
    "from keras.utils.vis_utils import plot_model\n",
    "\n",
    "from tensorflow_examples.models.pix2pix import pix2pix\n",
    "from focal_loss import SparseCategoricalFocalLoss\n",
    "from tf_explain.callbacks.activations_visualization import ActivationsVisualizationCallback\n",
    "\n",
    "import tensorflow_datasets as tfds\n",
    "tfds.disable_progress_bar()\n",
    "\n",
    "from IPython.display import clear_output\n",
    "from time import sleep\n",
    "from tqdm.notebook import tqdm\n",
    "import datetime\n",
    "import skimage.io as skio\n",
    "\n",
    "import segmentation_models as sm\n",
    "from segmentation_models.losses import bce_jaccard_loss\n",
    "\n",
    "from albumentations import (\n",
    "    Compose, Blur, HorizontalFlip, VerticalFlip,\n",
    "    Rotate, ChannelShuffle\n",
    ")\n",
    "\n",
    "# set your root directory and tiled data folders\n",
    "if 'google.colab' in str(get_ipython()):\n",
    "    # this is a google colab specific command to ensure TF version 2 is used. \n",
    "    # it won't work in a regular jupyter notebook, for a regular notebook make sure you install TF version 2\n",
    "    %tensorflow_version 2.x\n",
    "    # mount google drive\n",
    "    from google.colab import drive\n",
    "    drive.mount('/content/gdrive')\n",
    "    root_dir = '/content/gdrive/My Drive/servir-tf-devseed/' \n",
    "    workshop_dir = '/content/gdrive/My Drive/servir-tf-devseed-workshop'\n",
    "    print('Running on Colab')\n",
    "else:\n",
    "    root_dir = os.path.abspath(\"./data/servir-tf-devseed\")\n",
    "    workshop_dir = os.path.abspath('./servir-tf-devseed-workshop')\n",
    "    print(f'Not running on Colab, data needs to be downloaded locally at {os.path.abspath(root_dir)}')\n",
    "\n",
    "img_dir = os.path.join(root_dir,'indices/') # or os.path.join(root_dir,'images_bright/') if using the optical tiles\n",
    "label_dir = os.path.join(root_dir,'labels/')"
   ]
  },
  {
   "cell_type": "code",
   "execution_count": null,
   "metadata": {
    "id": "LEmJkl8AlE1r"
   },
   "outputs": [],
   "source": [
    "# go to root directory\n",
    "%cd $root_dir "
   ]
  },
  {
   "cell_type": "markdown",
   "metadata": {
    "id": "tmxfUyLrvheG"
   },
   "source": [
    "### Enabling GPU\n",
    "\n",
    "This notebook can utilize a GPU and works better if you use one. Hopefully this notebook is using a GPU, and we can check with the following code.\n",
    "\n",
    "If it's not using a GPU you can change your session/notebook to use a GPU. See [Instructions](https://colab.research.google.com/notebooks/gpu.ipynb#scrollTo=sXnDmXR7RDr2)"
   ]
  },
  {
   "cell_type": "code",
   "execution_count": null,
   "metadata": {
    "id": "G2-WXVFfvi1S"
   },
   "outputs": [],
   "source": [
    "device_name = tf.test.gpu_device_name()\n",
    "if device_name != '/device:GPU:0':\n",
    "  raise SystemError('GPU device not found')\n",
    "print('Found GPU at: {}'.format(device_name))"
   ]
  },
  {
   "cell_type": "markdown",
   "metadata": {
    "id": "ldG5RFPFNgOo"
   },
   "source": [
    "### Check out the labels"
   ]
  },
  {
   "cell_type": "code",
   "execution_count": null,
   "metadata": {
    "id": "jAbEMB8i87FL"
   },
   "outputs": [],
   "source": [
    "# Read the classes\n",
    "class_index = pd.read_csv(os.path.join(root_dir,'terrabio_classes.csv'))\n",
    "class_names = class_index.class_name.unique()\n",
    "print(class_index) "
   ]
  },
  {
   "cell_type": "code",
   "execution_count": null,
   "metadata": {
    "id": "129zz_NFMKeO"
   },
   "outputs": [],
   "source": [
    "train_df = pd.read_csv(os.path.join(workshop_dir, \"train_file_paths.csv\"))\n",
    "validate_df =  pd.read_csv(os.path.join(workshop_dir, \"validate_file_paths.csv\"))\n",
    "test_df =  pd.read_csv(os.path.join(workshop_dir, \"test_file_paths.csv\"))"
   ]
  },
  {
   "cell_type": "code",
   "execution_count": null,
   "metadata": {
    "id": "iz9v4GzcMKeO"
   },
   "outputs": [],
   "source": [
    "x_train_filenames = train_df[\"img_names\"]\n",
    "y_train_filenames = train_df[\"label_names\"]\n",
    "x_val_filenames = train_df[\"img_names\"]\n",
    "y_val_filenames = train_df[\"label_names\"]\n",
    "x_test_filenames = train_df[\"img_names\"]\n",
    "y_test_filenames = train_df[\"label_names\"]\n",
    "\n",
    "num_train_examples = len(x_train_filenames)\n",
    "num_val_examples = len(x_val_filenames)\n",
    "num_test_examples = len(x_test_filenames)"
   ]
  },
  {
   "cell_type": "markdown",
   "metadata": {
    "id": "N5vOIKFXOkrh"
   },
   "source": [
    "### Setting up our Augmentations\n",
    "\n",
    "[albumentations](https://albumentations.ai/docs/examples/tensorflow-example/) is a library that contains hundreds of options for transforming images to multiply your training dataset. While each additional image may not be as additively valuable as independent samples, showing your model harder to classify copies of your existing samples can help improve your model's ability to generalize. Plus, augmentations are basically free training data!\n",
    "\n",
    "Common augmentations include brightening images, applying blur, saturation, flipping, rotating, and randomly cropping and resizing. We'll apply a few augmentations from the `albumentations` library to highlight how to set up an augmentation pipeline. This differs from coding your own augmentations, like we did in episode 3 with our horizontal flip and veritcal flip functions, saving time and lines of code."
   ]
  },
  {
   "cell_type": "code",
   "execution_count": null,
   "metadata": {
    "id": "KiktXvX2MKeP"
   },
   "outputs": [],
   "source": [
    "# set input image shape\n",
    "img_shape = (224, 224, 3)\n",
    "# set batch size for model\n",
    "batch_size = 8\n",
    "\n",
    "transforms = Compose([\n",
    "            Rotate(limit=40),\n",
    "            HorizontalFlip(),\n",
    "            VerticalFlip(),\n",
    "            Blur(blur_limit=[10,10], p=.9),\n",
    "            ChannelShuffle(),\n",
    "        ])\n",
    "\n",
    "def aug_fn(image, img_size):\n",
    "    data = {\"image\":image}\n",
    "    aug_data = transforms(**data)\n",
    "    aug_img = aug_data[\"image\"]\n",
    "    aug_img = tf.cast(aug_img/255.0, tf.float32)\n",
    "    aug_img = tf.image.resize(aug_img, size=[img_size, img_size])\n",
    "    return aug_img\n",
    "\n",
    "# Function to augment the images and labels\n",
    "def _augment(img, label_img, img_size): \n",
    "  label_img = tf.image.resize(label_img, [224,224])\n",
    "  img = tf.image.resize(img, [224,224])\n",
    "  img = tf.cast(img, tf.float32) * (1/255.)\n",
    "  aug_img = tf.numpy_function(func=aug_fn, inp=[img, img_size], Tout=tf.float32)\n",
    "  return aug_img, label_img"
   ]
  },
  {
   "cell_type": "markdown",
   "metadata": {
    "id": "bv-Yw6OMMKeP"
   },
   "source": [
    "Now we will call our augmentation pipeline whenever we load a batch in our training or validation datasets. The augmentation pipeline that we form with `Compose()` is called in `get_baseline_dataset` during the dataset creation process."
   ]
  },
  {
   "cell_type": "code",
   "execution_count": null,
   "metadata": {
    "id": "gZHNVkBGMKeP"
   },
   "outputs": [],
   "source": [
    "# load your data\n",
    "# Function for reading the tiles into TensorFlow tensors \n",
    "# See TensorFlow documentation for explanation of tensor: https://www.tensorflow.org/guide/tensor\n",
    "def _process_pathnames(fname, label_path):\n",
    "  # We map this function onto each pathname pair  \n",
    "  img_str = tf.io.read_file(fname)\n",
    "  img = tf.image.decode_png(img_str, channels=3)\n",
    "\n",
    "  label_img_str = tf.io.read_file(label_path)\n",
    "\n",
    "  # These are png images so they return as (num_frames, h, w, c)\n",
    "  label_img = tf.image.decode_png(label_img_str, channels=1)\n",
    "  # The label image should have any values between 0 and 8, indicating pixel wise\n",
    "  # foreground class or background (0). We take the first channel only. \n",
    "  label_img = label_img[:, :, 0]\n",
    "  label_img = tf.expand_dims(label_img, axis=-1)\n",
    "  return img, label_img\n",
    "\n",
    "\n",
    "# Main function to tie all of the above four dataset processing functions together \n",
    "def get_baseline_dataset(filenames, \n",
    "                         labels,\n",
    "                         threads=5, \n",
    "                         batch_size=batch_size,\n",
    "                         shuffle=True):           \n",
    "  num_x = len(filenames)\n",
    "  # Create a dataset from the filenames and labels\n",
    "  dataset = tf.data.Dataset.from_tensor_slices((filenames, labels))\n",
    "  dataset = dataset.map(_process_pathnames, num_parallel_calls=threads)\n",
    "  # Map our preprocessing function to every element in our dataset, taking\n",
    "  # advantage of multithreading\n",
    "  dataset = dataset.map(functools.partial(_augment, img_size=224), num_parallel_calls=threads).prefetch(threads)\n",
    "  if shuffle:\n",
    "    dataset = dataset.shuffle(num_x)\n",
    "  # It's necessary to repeat our data for all epochs \n",
    "  dataset = dataset.repeat().batch(batch_size)\n",
    "  print(dataset)\n",
    "  return dataset"
   ]
  },
  {
   "cell_type": "code",
   "execution_count": null,
   "metadata": {
    "id": "T6Uc_SDDMKeQ"
   },
   "outputs": [],
   "source": [
    "# dataset configuration for training\n",
    "train_ds = get_baseline_dataset(x_train_filenames,\n",
    "                                y_train_filenames,\n",
    "                                batch_size=batch_size)\n",
    "val_ds = get_baseline_dataset(x_val_filenames,\n",
    "                              y_val_filenames, \n",
    "                              batch_size=batch_size)"
   ]
  },
  {
   "cell_type": "markdown",
   "metadata": {
    "id": "M23SgQ45MKeQ"
   },
   "source": [
    "Let's view some of our augmentations"
   ]
  },
  {
   "cell_type": "code",
   "execution_count": null,
   "metadata": {
    "id": "35k2n1Q6MKeQ"
   },
   "outputs": [],
   "source": [
    "def view_image(ds):\n",
    "    image, label = next(iter(ds)) # extract 1 batch from the dataset\n",
    "    image = image.numpy()\n",
    "    print(image.shape)\n",
    "    \n",
    "    fig = plt.figure(figsize=(22, 22))\n",
    "    for i in range(8):\n",
    "        ax = fig.add_subplot(2, 4, i+1, xticks=[], yticks=[])\n",
    "        ax.imshow(image[i])\n",
    "    plt.tight_layout()"
   ]
  },
  {
   "cell_type": "markdown",
   "metadata": {
    "id": "fwreKXxPMKeQ"
   },
   "source": [
    "Boom, more training data! Channel Shuffle presents the most extreme augmentation to the human eye. Try to adjust the Blur augmentation to create a more aggressive blurring effect."
   ]
  },
  {
   "cell_type": "code",
   "execution_count": null,
   "metadata": {
    "id": "4Rov5zvUMKeR"
   },
   "outputs": [],
   "source": [
    "view_image(train_ds)"
   ]
  },
  {
   "cell_type": "markdown",
   "metadata": {
    "id": "69rxVsHAMKeR"
   },
   "source": [
    "Now that we have a variety of augmentations that will be applied to each image in each batch, let's train a model using our augmentations and pretraining."
   ]
  },
  {
   "cell_type": "markdown",
   "metadata": {
    "id": "50yyXWVUMKeR"
   },
   "source": [
    "### Display functions for monitoring model progress and visualizing arrays"
   ]
  },
  {
   "cell_type": "code",
   "execution_count": null,
   "metadata": {
    "id": "ewyV43fnMKeR"
   },
   "outputs": [],
   "source": [
    "def create_mask(pred_mask):\n",
    "  pred_mask = tf.argmax(pred_mask, axis=-1)\n",
    "  pred_mask = pred_mask[..., tf.newaxis]\n",
    "  return pred_mask[0]\n",
    "\n",
    "def display(display_list):\n",
    "  plt.figure(figsize=(15, 15))\n",
    "\n",
    "  title = ['Input Image', 'True Mask', 'Predicted Mask']\n",
    "\n",
    "  for i in range(len(display_list)):\n",
    "    plt.subplot(1, len(display_list), i+1)\n",
    "    plt.title(title[i])\n",
    "    plt.imshow(tf.keras.preprocessing.image.array_to_img(display_list[i]))\n",
    "    plt.axis('off')\n",
    "  plt.show()\n",
    "\n",
    "def show_predictions(image=None, mask=None, dataset=None, num=1):\n",
    "  if image is None and dataset is None:\n",
    "    # this is just for showing keras callback output. in practice this should be broken out into a different function\n",
    "    sample_image = skio.imread(f'{img_dir}/tile_terrabio_17507.png') * (1/255.)\n",
    "    sample_mask = skio.imread(f'{label_dir}/tile_terrabio_17507.png')\n",
    "    mp = create_mask(model.predict(sample_image[tf.newaxis, ...]))\n",
    "    mpe = tf.keras.backend.eval(mp)\n",
    "    display([sample_image, sample_mask[..., tf.newaxis], mpe])\n",
    "  elif dataset:\n",
    "    for image, mask in dataset.take(num):\n",
    "      pred_mask = model.predict(image)\n",
    "      display([image[0], mask[0], create_mask(pred_mask)])\n",
    "  else:\n",
    "    mp = create_mask(model.predict(image[tf.newaxis, ...]))\n",
    "    mpe = tf.keras.backend.eval(mp)\n",
    "    display([image, mask, mpe])\n",
    "\n",
    "class DisplayCallback(tf.keras.callbacks.Callback):\n",
    "  def on_epoch_end(self, epoch, logs=None):\n",
    "    clear_output(wait=True)\n",
    "    show_predictions()\n",
    "    print ('\\nSample Prediction after epoch {}\\n'.format(epoch+1))\n",
    "\n",
    "callbacks = [\n",
    "    DisplayCallback()\n",
    "]"
   ]
  },
  {
   "cell_type": "markdown",
   "metadata": {
    "id": "U3VZhSH6MKeS"
   },
   "source": [
    "We'll use the `segmentation_models` implementation of a U-net, since it handles downlaoding pretrained weights from a variety of sources. To set up the U-Net in a manner that is equivalent with the U-Net we made from scratch in episode 3, we need to specify the correct activation function for multi-category pixel segmentation,`softmax`, and the correct number of classes: 9."
   ]
  },
  {
   "cell_type": "code",
   "execution_count": null,
   "metadata": {
    "id": "WQu4BRWbMKeS"
   },
   "outputs": [],
   "source": [
    "# define model\n",
    "\n",
    "sm.set_framework('tf.keras')\n",
    "\n",
    "sm.framework()\n",
    "\n",
    "model = sm.Unet('mobilenetv2', activation='softmax', classes = 9, encoder_weights=\"imagenet\", input_shape=(224,224,3))"
   ]
  },
  {
   "cell_type": "markdown",
   "metadata": {
    "id": "sCsrllWOMKeS"
   },
   "source": [
    "We'll compile our model with the same optimizer, loss function, and accuracy metrics from Lesson 3."
   ]
  },
  {
   "cell_type": "code",
   "execution_count": null,
   "metadata": {
    "id": "xmb1jKyuMKeS",
    "tags": []
   },
   "outputs": [],
   "source": [
    "model.compile(optimizer=tf.keras.optimizers.Adam(learning_rate=0.00001),\n",
    "              loss=SparseCategoricalFocalLoss(gamma=2, from_logits=True), #tf.keras.losses.SparseCategoricalCrossentropy(from_logits=True),\n",
    "              metrics=['accuracy', sm.metrics.iou_score])\n",
    "\n",
    "EPOCHS=10\n",
    "model_history = model.fit(\n",
    "   train_ds,\n",
    "   epochs=EPOCHS,\n",
    "   steps_per_epoch=int(np.ceil(num_train_examples / float(batch_size))),\n",
    "   validation_data=val_ds,\n",
    "   validation_steps=int(np.ceil(num_val_examples / float(batch_size))),\n",
    "   callbacks=callbacks\n",
    ")"
   ]
  },
  {
   "cell_type": "markdown",
   "metadata": {
    "id": "duIX1E-hMKeS"
   },
   "source": [
    "And we can view the model's loss plot and compare to Lesson 3. Was there an improvement? "
   ]
  },
  {
   "cell_type": "code",
   "execution_count": null,
   "metadata": {
    "id": "nt71bakuMKeS"
   },
   "outputs": [],
   "source": [
    "loss = model_history.history['loss']\n",
    "val_loss = model_history.history['val_loss']\n",
    "\n",
    "epochs = range(EPOCHS)\n",
    "\n",
    "plt.figure()\n",
    "plt.plot(epochs, loss, 'r', label='Training loss')\n",
    "plt.plot(epochs, val_loss, 'bo', label='Validation loss')\n",
    "plt.title('Training and Validation Loss')\n",
    "plt.xlabel('Epoch')\n",
    "plt.ylabel('Loss Value')\n",
    "plt.ylim([0, 2])\n",
    "plt.legend()\n",
    "plt.show()"
   ]
  }
 ],
 "metadata": {
  "accelerator": "GPU",
  "colab": {
   "collapsed_sections": [],
   "machine_shape": "hm",
   "name": "Lesson5_dealing_with_limited_data.ipynb",
   "provenance": [],
   "toc_visible": true
  },
  "kernelspec": {
   "display_name": "Python [conda env:servir]",
   "language": "python",
   "name": "conda-env-servir-py"
  },
  "language_info": {
   "codemirror_mode": {
    "name": "ipython",
    "version": 3
   },
   "file_extension": ".py",
   "mimetype": "text/x-python",
   "name": "python",
   "nbconvert_exporter": "python",
   "pygments_lexer": "ipython3",
   "version": "3.7.11"
  }
 },
 "nbformat": 4,
 "nbformat_minor": 4
}
