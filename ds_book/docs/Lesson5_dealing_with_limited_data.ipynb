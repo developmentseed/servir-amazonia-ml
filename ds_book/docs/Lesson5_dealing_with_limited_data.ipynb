{
 "cells": [
  {
   "cell_type": "markdown",
   "metadata": {
    "id": "MYe-1iFbo3dQ"
   },
   "source": [
    "# Dealing with limited data for semantic segmentation\n",
    "> Strategies for efficiently collecting more data to target specific areas of underperforming models and techniques to adopt to maximize utility of the data"
   ]
  },
  {
   "cell_type": "markdown",
   "metadata": {
    "id": "zYmAYTogOkpd"
   },
   "source": [
    "\n",
    "\n",
    "**Audience:** This post is geared towards intermediate users who are comfortable with basic machine learning concepts. \n",
    "\n",
    "**Time Estimated**: 60-120 min\n",
    "\n"
   ]
  },
  {
   "cell_type": "markdown",
   "metadata": {
    "id": "8wLP8n9tvVwD"
   },
   "source": [
    "## Setup Notebook"
   ]
  },
  {
   "cell_type": "code",
   "execution_count": null,
   "metadata": {
    "id": "lYMOkBeaeuoV"
   },
   "outputs": [],
   "source": [
    "# install required libraries\n",
    "!pip install -q rasterio\n",
    "!pip install -q geopandas\n",
    "!pip install git+https://github.com/tensorflow/examples.git\n",
    "!pip install -U tfds-nightly\n",
    "!pip install focal-loss\n",
    "!pip install tensorflow-addons==0.8.3\n"
   ]
  },
  {
   "cell_type": "markdown",
   "metadata": {
    "id": "uVQOf_jbw5fN"
   },
   "source": [
    "### Getting set up with the data\n",
    "\n",
    "Create drive shortcuts of the tiled imagery to your own My Drive Folder by Right-Clicking on the Shared folder `terrabio`. Then, this folder will be available at the following path that is accessible with the google.colab `drive` module: `'/content/gdrive/My Drive/servir-tf/terrabio/'`\n",
    "\n",
    "We'll be working witht he following folders in the `tiled` folder:\n",
    "```\n",
    "tiled/\n",
    "├── images/\n",
    "├── images_bright/\n",
    "├── indices/\n",
    "├── indices_800/\n",
    "├── labels/\n",
    "└── labels_800/\n",
    "```"
   ]
  },
  {
   "cell_type": "code",
   "execution_count": 3,
   "metadata": {
    "colab": {
     "base_uri": "https://localhost:8080/"
    },
    "id": "bx4zlZ7SgmO_",
    "outputId": "5e6b292b-096e-42c8-f638-f13b81f89e3c"
   },
   "outputs": [
    {
     "name": "stdout",
     "output_type": "stream",
     "text": [
      "Mounted at /content/gdrive\n"
     ]
    }
   ],
   "source": [
    "# mount google drive\n",
    "from google.colab import drive\n",
    "drive.mount('/content/gdrive')"
   ]
  },
  {
   "cell_type": "code",
   "execution_count": 4,
   "metadata": {
    "colab": {
     "base_uri": "https://localhost:8080/"
    },
    "id": "Y_UgojhBOkpe",
    "outputId": "4551ccba-1f97-4fa5-a4d6-b0dd25f35945"
   },
   "outputs": [
    {
     "name": "stdout",
     "output_type": "stream",
     "text": [
      "Running on CoLab\n"
     ]
    }
   ],
   "source": [
    "# set your root directory and tiled data folders\n",
    "if 'google.colab' in str(get_ipython()):\n",
    "    root_dir = '/content/gdrive/My Drive/servir-tf/terrabio/' \n",
    "    print('Running on CoLab')\n",
    "else:\n",
    "    root_dir = './data/' \n",
    "    print(f'Not running on CoLab, data needs to be downloaded locally at {os.path.abspath(root_dir)}')\n",
    "\n",
    "img_dir = os.path.join(root_dir,'tiled/indices/') # or root_dir+'tiled/images_bright/' if using the optical tiles\n",
    "label_dir = os.path.join(root_dir,'tiled/labels/')"
   ]
  },
  {
   "cell_type": "code",
   "execution_count": 5,
   "metadata": {
    "colab": {
     "base_uri": "https://localhost:8080/"
    },
    "id": "LEmJkl8AlE1r",
    "outputId": "bc158aa4-6697-4a7f-d80f-4453664da82c"
   },
   "outputs": [
    {
     "name": "stdout",
     "output_type": "stream",
     "text": [
      "/content/gdrive/My Drive/servir-tf/terrabio\n"
     ]
    }
   ],
   "source": [
    "# go to root directory\n",
    "%cd $root_dir "
   ]
  },
  {
   "cell_type": "markdown",
   "metadata": {
    "id": "tmxfUyLrvheG"
   },
   "source": [
    "### Enabling GPU\n",
    "\n",
    "This notebook can utilize a GPU and works better if you use one. Hopefully this notebook is using a GPU, and we can check with the following code.\n",
    "\n",
    "If it's not using a GPU you can change your session/notebook to use a GPU. See [Instructions](https://colab.research.google.com/notebooks/gpu.ipynb#scrollTo=sXnDmXR7RDr2)"
   ]
  },
  {
   "cell_type": "code",
   "execution_count": null,
   "metadata": {
    "colab": {
     "base_uri": "https://localhost:8080/"
    },
    "id": "G2-WXVFfvi1S",
    "outputId": "f6437983-a6c6-428e-c163-26e67f1669f5"
   },
   "outputs": [
    {
     "name": "stdout",
     "output_type": "stream",
     "text": [
      "Found GPU at: /device:GPU:0\n"
     ]
    }
   ],
   "source": [
    "# this is a google colab specific command to ensure TF version 2 is used. \n",
    "# it won't work in a regular jupyter notebook, for a regular notebook make sure you install TF version 2\n",
    "%tensorflow_version 2.x\n",
    "import tensorflow as tf\n",
    "device_name = tf.test.gpu_device_name()\n",
    "if device_name != '/device:GPU:0':\n",
    "  raise SystemError('GPU device not found')\n",
    "print('Found GPU at: {}'.format(device_name))"
   ]
  },
  {
   "cell_type": "markdown",
   "metadata": {
    "id": "ldG5RFPFNgOo"
   },
   "source": [
    "### Check out the labels"
   ]
  },
  {
   "cell_type": "code",
   "execution_count": 27,
   "metadata": {
    "colab": {
     "base_uri": "https://localhost:8080/"
    },
    "id": "jAbEMB8i87FL",
    "outputId": "8c50c8d9-2a5c-46d1-b171-8f547e46f3f2"
   },
   "outputs": [
    {
     "name": "stdout",
     "output_type": "stream",
     "text": [
      "   class_id   class_name\n",
      "0         0   Background\n",
      "1         1     Bushland\n",
      "2         2      Pasture\n",
      "3         3        Roads\n",
      "4         4        Cocoa\n",
      "5         5   Tree cover\n",
      "6         6    Developed\n",
      "7         7        Water\n",
      "8         8  Agriculture\n"
     ]
    }
   ],
   "source": [
    "# Read the classes\n",
    "class_index = pd.read_csv(root_dir+'tiled/terrabio_classes.csv')\n",
    "class_names = class_index.class_name.unique()\n",
    "print(class_index) \n"
   ]
  },
  {
   "cell_type": "code",
   "execution_count": null,
   "metadata": {
    "id": "N5vOIKFXOkrh"
   },
   "outputs": [],
   "source": []
  }
 ],
 "metadata": {
  "accelerator": "GPU",
  "colab": {
   "collapsed_sections": [],
   "machine_shape": "hm",
   "name": "Indices_DeepLearning_Crop_Segmentation_112021.ipynb",
   "provenance": [],
   "toc_visible": true
  },
  "kernelspec": {
   "display_name": "Python [conda env:servir]",
   "language": "python",
   "name": "conda-env-servir-py"
  },
  "language_info": {
   "codemirror_mode": {
    "name": "ipython",
    "version": 3
   },
   "file_extension": ".py",
   "mimetype": "text/x-python",
   "name": "python",
   "nbconvert_exporter": "python",
   "pygments_lexer": "ipython3",
   "version": "3.7.11"
  }
 },
 "nbformat": 4,
 "nbformat_minor": 4
}
