{
 "cells": [
  {
   "cell_type": "markdown",
   "metadata": {
    "id": "MYe-1iFbo3dQ"
   },
   "source": [
    "# Evaluating Semantic Segmentation Models\n",
    "> A guide for understanding the performance of semantic segmentation for land use / land cover in satellite imagery."
   ]
  },
  {
   "cell_type": "markdown",
   "metadata": {
    "id": "zYmAYTogOkpd"
   },
   "source": [
    "After we have trained a model for segmenting images according to a set of classes it's time to evaluate how well it has performed. With any supervised machine learning model, we are typically interested in minimizing false positives or false negatives, with a preference for one or the other. \n",
    "\n",
    "Additionally, are also interested in making sure our model generalizes beyond the training dataset to new data it was not trained on. Finally, we'd like our model to make high confidence, correct predictions, and for higher confidence thresholds to not result in many more false negatives.\n",
    "\n",
    "For semantic segmentation, our evaluation unit is an individual pixel, which can be one of four categories:\n",
    "* true positive: the pixel was classified correctly as a class of interest.\n",
    "* true negative: the pixel was classified correctly as the background class.\n",
    "* false positive: the pixel was incorrectly assigned a class of interest\n",
    "* false negative: the pixel was incorrectly assigned the background class or a different class\n",
    "\n",
    "The most in depth and succinct summary we can produce is a confusion matrix. It summarrizes the counts of pixels that fall into each of these categories for each of our classes of interest and the background class.\n",
    "\n",
    "\n",
    "![Confusion Matrix Example](images/cm.png)\n",
    "\n",
    "In this tutorial we will using data from two reference datasets, Imaflora and Para, and our U-Net predictions from Planet NICFI monthly imagery to compute a confusion matrix to assess our model performance. As we go through this exercise, you'll notice that our reference datasets do not always correspond to the imagery, so take this lesson as a demonstration of how to carry out an experiment, not as an evaluation of a model that will be used in production. The next episode will cover how to deal with innacurate or limited reference data.\n",
    "\n",
    "## Specific concepts that will be covered\n",
    "In the process, we will build practical experience and develop intuition around the following concepts:\n",
    "* **[sci-kit learn](https://scikit-learn.org/stable/modules/generated/sklearn.metrics.confusion_matrix.html)** - we will use sci-kit learn to compute a confusion matrix and discuss how supplying different values to the `normalize `argument can help us interpret our data. \n",
    "* **Metrics** - We will cover useful summary metrics that capture much of the information in the confusion matrix, including precision, recall, and F1 Score.\n",
    "\n",
    "\n",
    "**Audience:** This post is geared towards intermediate users who are comfortable with basic machine learning concepts. \n",
    "\n",
    "**Time Estimated**: 60-120 min\n",
    "\n"
   ]
  },
  {
   "cell_type": "markdown",
   "metadata": {
    "id": "8wLP8n9tvVwD"
   },
   "source": [
    "## Setup Notebook"
   ]
  },
  {
   "cell_type": "code",
   "execution_count": null,
   "metadata": {
    "id": "lYMOkBeaeuoV"
   },
   "outputs": [],
   "source": [
    "# install required libraries\n",
    "!pip install -q rasterio==1.2.10\n",
    "!pip install -q geopandas==0.10.2\n",
    "!pip install -q git+https://github.com/tensorflow/examples.git\n",
    "!pip install -q -U tfds-nightly\n",
    "!pip install -q focal-loss\n",
    "!pip install -q tensorflow-addons==0.8.3\n",
    "#!pip install -q matplotlib==3.5 # UNCOMMENT if running on LOCAL\n",
    "!pip install -q scikit-learn==1.0.1\n",
    "!pip install -q scikit-image==0.18.3"
   ]
  },
  {
   "cell_type": "code",
   "execution_count": 1,
   "metadata": {
    "id": "X-hVmWq9Okpl"
   },
   "outputs": [],
   "source": [
    "# import required libraries\n",
    "import os, glob, functools, fnmatch\n",
    "from zipfile import ZipFile\n",
    "from itertools import product\n",
    "\n",
    "import numpy as np\n",
    "import matplotlib.pyplot as plt\n",
    "import matplotlib as mpl\n",
    "mpl.rcParams['axes.grid'] = False\n",
    "mpl.rcParams['figure.figsize'] = (12,12)\n",
    "import matplotlib.image as mpimg\n",
    "import pandas as pd\n",
    "from PIL import Image\n",
    "import geopandas as gpd\n",
    "from IPython.display import clear_output\n",
    "from time import sleep\n",
    "\n",
    "import skimage.io as skio # lighter dependency than tensorflow for working with our tensors/arrays\n",
    "from sklearn.metrics import confusion_matrix, f1_score"
   ]
  },
  {
   "cell_type": "markdown",
   "metadata": {
    "id": "uVQOf_jbw5fN"
   },
   "source": [
    "### Getting set up with the data\n",
    "\n",
    "```{important}\n",
    "Create drive shortcuts of the tiled imagery to your own My Drive Folder by Right-Clicking on the Shared folder `servir-tf-devseed`. Then, this folder will be available at the following path that is accessible with the google.colab `drive` module: `'/content/gdrive/My Drive/servir-tf-devseed/'`\n",
    "```\n",
    "\n",
    "We'll be working witht he following folders in the `servir-tf-devseed` folder:\n",
    "```\n",
    "servir-tf-devseed/\n",
    "├── images/\n",
    "├── images_bright/\n",
    "├── indices/\n",
    "├── indices_800/\n",
    "├── labels/\n",
    "├── labels_800/\n",
    "├── background_list_train.txt\n",
    "├── train_list_clean.txt\n",
    "└── terrabio_classes.csv\n",
    "```"
   ]
  },
  {
   "cell_type": "code",
   "execution_count": 2,
   "metadata": {
    "colab": {
     "base_uri": "https://localhost:8080/"
    },
    "id": "Y_UgojhBOkpe",
    "outputId": "4551ccba-1f97-4fa5-a4d6-b0dd25f35945"
   },
   "outputs": [
    {
     "name": "stdout",
     "output_type": "stream",
     "text": [
      "Not running on Colab, data needs to be downloaded locally at /home/rave/servir-amazonia-ml/ds_book/docs/data/servir-tf-devseed\n"
     ]
    }
   ],
   "source": [
    "# set your root directory and tiled data folders\n",
    "if 'google.colab' in str(get_ipython()):\n",
    "    # mount google drive\n",
    "    from google.colab import drive\n",
    "    drive.mount('/content/gdrive')\n",
    "    root_dir = '/content/gdrive/My Drive/servir-tf-devseed/' \n",
    "    workshop_dir = '/content/gdrive/My Drive/servir-tf-devseed-workshop'\n",
    "    print('Running on Colab')\n",
    "else:\n",
    "    root_dir = os.path.abspath(\"./data/servir-tf-devseed\")\n",
    "    workshop_dir = os.path.abspath('./servir-tf-devseed-workshop')\n",
    "    print(f'Not running on Colab, data needs to be downloaded locally at {os.path.abspath(root_dir)}')\n",
    "\n",
    "img_dir = os.path.join(root_dir,'indices/') # or os.path.join(root_dir,'images_bright/') if using the optical tiles\n",
    "label_dir = os.path.join(root_dir,'labels/')"
   ]
  },
  {
   "cell_type": "code",
   "execution_count": 3,
   "metadata": {
    "colab": {
     "base_uri": "https://localhost:8080/"
    },
    "id": "LEmJkl8AlE1r",
    "outputId": "bc158aa4-6697-4a7f-d80f-4453664da82c"
   },
   "outputs": [
    {
     "name": "stdout",
     "output_type": "stream",
     "text": [
      "/home/rave/servir-amazonia-ml/ds_book/docs/data/servir-tf-devseed\n"
     ]
    }
   ],
   "source": [
    "# go to root directory\n",
    "%cd $root_dir "
   ]
  },
  {
   "cell_type": "markdown",
   "metadata": {
    "id": "ldG5RFPFNgOo"
   },
   "source": [
    "### Check out the labels\n",
    "We'll use these labels to label our confusion matrix and table with class specific metrics."
   ]
  },
  {
   "cell_type": "code",
   "execution_count": 4,
   "metadata": {
    "colab": {
     "base_uri": "https://localhost:8080/"
    },
    "id": "jAbEMB8i87FL",
    "outputId": "8c50c8d9-2a5c-46d1-b171-8f547e46f3f2"
   },
   "outputs": [
    {
     "name": "stdout",
     "output_type": "stream",
     "text": [
      "   class_id   class_name\n",
      "0         0   Background\n",
      "1         1     Bushland\n",
      "2         2      Pasture\n",
      "3         3        Roads\n",
      "4         4        Cocoa\n",
      "5         5   Tree cover\n",
      "6         6    Developed\n",
      "7         7        Water\n",
      "8         8  Agriculture\n"
     ]
    }
   ],
   "source": [
    "# Read the classes\n",
    "class_index = pd.read_csv(os.path.join(root_dir,'terrabio_classes.csv'))\n",
    "class_names = class_index.class_name.unique()\n",
    "print(class_index) \n"
   ]
  },
  {
   "cell_type": "markdown",
   "metadata": {
    "id": "zI4907uiOkqN"
   },
   "source": [
    "### Getting image, prediction, and label filenames\n",
    "\n",
    "Before creating our confusion matrix, we need to associate labels, images, and prediction files together so that we know what to compare. We'll use our standard python for this."
   ]
  },
  {
   "cell_type": "markdown",
   "metadata": {
    "id": "dYbvmkUXCsrL"
   },
   "source": [
    "### Evaluate Model\n",
    "\n",
    "Compute confusion matrix from all predicted images and their ground truth label masks. "
   ]
  },
  {
   "cell_type": "markdown",
   "metadata": {},
   "source": [
    "First we need to read in our prediction masks that we saved out in the last notebook. To do this, we can use scikit image, and then we can use scikit learn to compute our confusion matrix. No tensorflow needed for this part!"
   ]
  },
  {
   "cell_type": "code",
   "execution_count": 5,
   "metadata": {},
   "outputs": [],
   "source": [
    "path_df = pd.read_csv(os.path.join(workshop_dir, \"test_file_paths.csv\"))"
   ]
  },
  {
   "cell_type": "code",
   "execution_count": 6,
   "metadata": {},
   "outputs": [
    {
     "data": {
      "text/html": [
       "<div>\n",
       "<style scoped>\n",
       "    .dataframe tbody tr th:only-of-type {\n",
       "        vertical-align: middle;\n",
       "    }\n",
       "\n",
       "    .dataframe tbody tr th {\n",
       "        vertical-align: top;\n",
       "    }\n",
       "\n",
       "    .dataframe thead th {\n",
       "        text-align: right;\n",
       "    }\n",
       "</style>\n",
       "<table border=\"1\" class=\"dataframe\">\n",
       "  <thead>\n",
       "    <tr style=\"text-align: right;\">\n",
       "      <th></th>\n",
       "      <th>Unnamed: 0</th>\n",
       "      <th>img_names</th>\n",
       "      <th>label_names</th>\n",
       "      <th>pred_names</th>\n",
       "    </tr>\n",
       "  </thead>\n",
       "  <tbody>\n",
       "    <tr>\n",
       "      <th>0</th>\n",
       "      <td>0</td>\n",
       "      <td>/Users/rave/servir-amazonia-ml/ds_book/docs/data/servir-tf-devseed/indices/tile_terrabio_392.png</td>\n",
       "      <td>/Users/rave/servir-amazonia-ml/ds_book/docs/data/servir-tf-devseed/labels/tile_terrabio_392.png</td>\n",
       "      <td>/Users/rave/servir-amazonia-ml/ds_book/docs/servir-tf-devseed-workshop/predictions_test_focal_loss/tile_terrabio_392.png</td>\n",
       "    </tr>\n",
       "    <tr>\n",
       "      <th>1</th>\n",
       "      <td>1</td>\n",
       "      <td>/Users/rave/servir-amazonia-ml/ds_book/docs/data/servir-tf-devseed/indices/tile_terrabio_1440.png</td>\n",
       "      <td>/Users/rave/servir-amazonia-ml/ds_book/docs/data/servir-tf-devseed/labels/tile_terrabio_1440.png</td>\n",
       "      <td>/Users/rave/servir-amazonia-ml/ds_book/docs/servir-tf-devseed-workshop/predictions_test_focal_loss/tile_terrabio_1440.png</td>\n",
       "    </tr>\n",
       "    <tr>\n",
       "      <th>2</th>\n",
       "      <td>2</td>\n",
       "      <td>/Users/rave/servir-amazonia-ml/ds_book/docs/data/servir-tf-devseed/indices/tile_terrabio_21138.png</td>\n",
       "      <td>/Users/rave/servir-amazonia-ml/ds_book/docs/data/servir-tf-devseed/labels/tile_terrabio_21138.png</td>\n",
       "      <td>/Users/rave/servir-amazonia-ml/ds_book/docs/servir-tf-devseed-workshop/predictions_test_focal_loss/tile_terrabio_21138.png</td>\n",
       "    </tr>\n",
       "    <tr>\n",
       "      <th>3</th>\n",
       "      <td>3</td>\n",
       "      <td>/Users/rave/servir-amazonia-ml/ds_book/docs/data/servir-tf-devseed/indices/tile_terrabio_21426.png</td>\n",
       "      <td>/Users/rave/servir-amazonia-ml/ds_book/docs/data/servir-tf-devseed/labels/tile_terrabio_21426.png</td>\n",
       "      <td>/Users/rave/servir-amazonia-ml/ds_book/docs/servir-tf-devseed-workshop/predictions_test_focal_loss/tile_terrabio_21426.png</td>\n",
       "    </tr>\n",
       "    <tr>\n",
       "      <th>4</th>\n",
       "      <td>4</td>\n",
       "      <td>/Users/rave/servir-amazonia-ml/ds_book/docs/data/servir-tf-devseed/indices/tile_terrabio_3724.png</td>\n",
       "      <td>/Users/rave/servir-amazonia-ml/ds_book/docs/data/servir-tf-devseed/labels/tile_terrabio_3724.png</td>\n",
       "      <td>/Users/rave/servir-amazonia-ml/ds_book/docs/servir-tf-devseed-workshop/predictions_test_focal_loss/tile_terrabio_3724.png</td>\n",
       "    </tr>\n",
       "    <tr>\n",
       "      <th>...</th>\n",
       "      <td>...</td>\n",
       "      <td>...</td>\n",
       "      <td>...</td>\n",
       "      <td>...</td>\n",
       "    </tr>\n",
       "    <tr>\n",
       "      <th>442</th>\n",
       "      <td>442</td>\n",
       "      <td>/Users/rave/servir-amazonia-ml/ds_book/docs/data/servir-tf-devseed/indices/tile_terrabio_52.png</td>\n",
       "      <td>/Users/rave/servir-amazonia-ml/ds_book/docs/data/servir-tf-devseed/labels/tile_terrabio_52.png</td>\n",
       "      <td>/Users/rave/servir-amazonia-ml/ds_book/docs/servir-tf-devseed-workshop/predictions_test_focal_loss/tile_terrabio_52.png</td>\n",
       "    </tr>\n",
       "    <tr>\n",
       "      <th>443</th>\n",
       "      <td>443</td>\n",
       "      <td>/Users/rave/servir-amazonia-ml/ds_book/docs/data/servir-tf-devseed/indices/tile_terrabio_95.png</td>\n",
       "      <td>/Users/rave/servir-amazonia-ml/ds_book/docs/data/servir-tf-devseed/labels/tile_terrabio_95.png</td>\n",
       "      <td>/Users/rave/servir-amazonia-ml/ds_book/docs/servir-tf-devseed-workshop/predictions_test_focal_loss/tile_terrabio_95.png</td>\n",
       "    </tr>\n",
       "    <tr>\n",
       "      <th>444</th>\n",
       "      <td>444</td>\n",
       "      <td>/Users/rave/servir-amazonia-ml/ds_book/docs/data/servir-tf-devseed/indices/tile_terrabio_2678.png</td>\n",
       "      <td>/Users/rave/servir-amazonia-ml/ds_book/docs/data/servir-tf-devseed/labels/tile_terrabio_2678.png</td>\n",
       "      <td>/Users/rave/servir-amazonia-ml/ds_book/docs/servir-tf-devseed-workshop/predictions_test_focal_loss/tile_terrabio_2678.png</td>\n",
       "    </tr>\n",
       "    <tr>\n",
       "      <th>445</th>\n",
       "      <td>445</td>\n",
       "      <td>/Users/rave/servir-amazonia-ml/ds_book/docs/data/servir-tf-devseed/indices/tile_terrabio_44.png</td>\n",
       "      <td>/Users/rave/servir-amazonia-ml/ds_book/docs/data/servir-tf-devseed/labels/tile_terrabio_44.png</td>\n",
       "      <td>/Users/rave/servir-amazonia-ml/ds_book/docs/servir-tf-devseed-workshop/predictions_test_focal_loss/tile_terrabio_44.png</td>\n",
       "    </tr>\n",
       "    <tr>\n",
       "      <th>446</th>\n",
       "      <td>446</td>\n",
       "      <td>/Users/rave/servir-amazonia-ml/ds_book/docs/data/servir-tf-devseed/indices/tile_terrabio_577.png</td>\n",
       "      <td>/Users/rave/servir-amazonia-ml/ds_book/docs/data/servir-tf-devseed/labels/tile_terrabio_577.png</td>\n",
       "      <td>/Users/rave/servir-amazonia-ml/ds_book/docs/servir-tf-devseed-workshop/predictions_test_focal_loss/tile_terrabio_577.png</td>\n",
       "    </tr>\n",
       "  </tbody>\n",
       "</table>\n",
       "<p>447 rows × 4 columns</p>\n",
       "</div>"
      ],
      "text/plain": [
       "     Unnamed: 0  \\\n",
       "0             0   \n",
       "1             1   \n",
       "2             2   \n",
       "3             3   \n",
       "4             4   \n",
       "..          ...   \n",
       "442         442   \n",
       "443         443   \n",
       "444         444   \n",
       "445         445   \n",
       "446         446   \n",
       "\n",
       "                                                                                              img_names  \\\n",
       "0      /Users/rave/servir-amazonia-ml/ds_book/docs/data/servir-tf-devseed/indices/tile_terrabio_392.png   \n",
       "1     /Users/rave/servir-amazonia-ml/ds_book/docs/data/servir-tf-devseed/indices/tile_terrabio_1440.png   \n",
       "2    /Users/rave/servir-amazonia-ml/ds_book/docs/data/servir-tf-devseed/indices/tile_terrabio_21138.png   \n",
       "3    /Users/rave/servir-amazonia-ml/ds_book/docs/data/servir-tf-devseed/indices/tile_terrabio_21426.png   \n",
       "4     /Users/rave/servir-amazonia-ml/ds_book/docs/data/servir-tf-devseed/indices/tile_terrabio_3724.png   \n",
       "..                                                                                                  ...   \n",
       "442     /Users/rave/servir-amazonia-ml/ds_book/docs/data/servir-tf-devseed/indices/tile_terrabio_52.png   \n",
       "443     /Users/rave/servir-amazonia-ml/ds_book/docs/data/servir-tf-devseed/indices/tile_terrabio_95.png   \n",
       "444   /Users/rave/servir-amazonia-ml/ds_book/docs/data/servir-tf-devseed/indices/tile_terrabio_2678.png   \n",
       "445     /Users/rave/servir-amazonia-ml/ds_book/docs/data/servir-tf-devseed/indices/tile_terrabio_44.png   \n",
       "446    /Users/rave/servir-amazonia-ml/ds_book/docs/data/servir-tf-devseed/indices/tile_terrabio_577.png   \n",
       "\n",
       "                                                                                           label_names  \\\n",
       "0      /Users/rave/servir-amazonia-ml/ds_book/docs/data/servir-tf-devseed/labels/tile_terrabio_392.png   \n",
       "1     /Users/rave/servir-amazonia-ml/ds_book/docs/data/servir-tf-devseed/labels/tile_terrabio_1440.png   \n",
       "2    /Users/rave/servir-amazonia-ml/ds_book/docs/data/servir-tf-devseed/labels/tile_terrabio_21138.png   \n",
       "3    /Users/rave/servir-amazonia-ml/ds_book/docs/data/servir-tf-devseed/labels/tile_terrabio_21426.png   \n",
       "4     /Users/rave/servir-amazonia-ml/ds_book/docs/data/servir-tf-devseed/labels/tile_terrabio_3724.png   \n",
       "..                                                                                                 ...   \n",
       "442     /Users/rave/servir-amazonia-ml/ds_book/docs/data/servir-tf-devseed/labels/tile_terrabio_52.png   \n",
       "443     /Users/rave/servir-amazonia-ml/ds_book/docs/data/servir-tf-devseed/labels/tile_terrabio_95.png   \n",
       "444   /Users/rave/servir-amazonia-ml/ds_book/docs/data/servir-tf-devseed/labels/tile_terrabio_2678.png   \n",
       "445     /Users/rave/servir-amazonia-ml/ds_book/docs/data/servir-tf-devseed/labels/tile_terrabio_44.png   \n",
       "446    /Users/rave/servir-amazonia-ml/ds_book/docs/data/servir-tf-devseed/labels/tile_terrabio_577.png   \n",
       "\n",
       "                                                                                                                     pred_names  \n",
       "0      /Users/rave/servir-amazonia-ml/ds_book/docs/servir-tf-devseed-workshop/predictions_test_focal_loss/tile_terrabio_392.png  \n",
       "1     /Users/rave/servir-amazonia-ml/ds_book/docs/servir-tf-devseed-workshop/predictions_test_focal_loss/tile_terrabio_1440.png  \n",
       "2    /Users/rave/servir-amazonia-ml/ds_book/docs/servir-tf-devseed-workshop/predictions_test_focal_loss/tile_terrabio_21138.png  \n",
       "3    /Users/rave/servir-amazonia-ml/ds_book/docs/servir-tf-devseed-workshop/predictions_test_focal_loss/tile_terrabio_21426.png  \n",
       "4     /Users/rave/servir-amazonia-ml/ds_book/docs/servir-tf-devseed-workshop/predictions_test_focal_loss/tile_terrabio_3724.png  \n",
       "..                                                                                                                          ...  \n",
       "442     /Users/rave/servir-amazonia-ml/ds_book/docs/servir-tf-devseed-workshop/predictions_test_focal_loss/tile_terrabio_52.png  \n",
       "443     /Users/rave/servir-amazonia-ml/ds_book/docs/servir-tf-devseed-workshop/predictions_test_focal_loss/tile_terrabio_95.png  \n",
       "444   /Users/rave/servir-amazonia-ml/ds_book/docs/servir-tf-devseed-workshop/predictions_test_focal_loss/tile_terrabio_2678.png  \n",
       "445     /Users/rave/servir-amazonia-ml/ds_book/docs/servir-tf-devseed-workshop/predictions_test_focal_loss/tile_terrabio_44.png  \n",
       "446    /Users/rave/servir-amazonia-ml/ds_book/docs/servir-tf-devseed-workshop/predictions_test_focal_loss/tile_terrabio_577.png  \n",
       "\n",
       "[447 rows x 4 columns]"
      ]
     },
     "execution_count": 6,
     "metadata": {},
     "output_type": "execute_result"
    }
   ],
   "source": [
    "pd.set_option('display.max_colwidth', None)\n",
    "path_df"
   ]
  },
  {
   "cell_type": "code",
   "execution_count": 7,
   "metadata": {},
   "outputs": [],
   "source": [
    "# reading in preds\n",
    "label_arr_lst = path_df[\"label_names\"].apply(skio.imread)\n",
    "pred_arr_lst = path_df[\"pred_names\"].apply(skio.imread)"
   ]
  },
  {
   "cell_type": "markdown",
   "metadata": {},
   "source": [
    "One of our labels has an image dimension that doesn't match the prediction dimension! It's possible this image was corrupted. We can skip it and the corresponding prediction when computing our metrics."
   ]
  },
  {
   "cell_type": "code",
   "execution_count": 8,
   "metadata": {},
   "outputs": [
    {
     "name": "stdout",
     "output_type": "stream",
     "text": [
      "The 176th label has an incorrect dimension, skipping.\n",
      "[[5 0 5 ... 6 5 0]\n",
      " [3 2 4 ... 7 4 7]\n",
      " [5 1 4 ... 5 5 3]\n",
      " ...\n",
      " [4 7 4 ... 7 4 7]\n",
      " [5 1 2 ... 5 5 1]\n",
      " [4 2 4 ... 2 4 2]]\n",
      "[[0 0 0 ... 0 0 0]\n",
      " [0 0 0 ... 0 0 0]\n",
      " [0 0 0 ... 0 0 0]\n",
      " ...\n",
      " [0 0 0 ... 0 0 0]\n",
      " [0 0 0 ... 0 0 0]\n",
      " [0 0 0 ... 0 0 0]]\n",
      "(224, 224)\n",
      "(218, 224)\n"
     ]
    }
   ],
   "source": [
    "pred_arr_lst_valid = []\n",
    "label_arr_lst_valid = []\n",
    "for i in range(0, len(pred_arr_lst)):\n",
    "    if pred_arr_lst[i].shape != label_arr_lst[i].shape:\n",
    "        \n",
    "        print(f\"The {i}th label has an incorrect dimension, skipping.\")\n",
    "        print(pred_arr_lst[i])\n",
    "        print(label_arr_lst[i])\n",
    "        print(pred_arr_lst[i].shape)\n",
    "        print(label_arr_lst[i].shape)\n",
    "        \n",
    "    else:\n",
    "        pred_arr_lst_valid.append(pred_arr_lst[i])\n",
    "        label_arr_lst_valid.append(label_arr_lst[i])"
   ]
  },
  {
   "cell_type": "markdown",
   "metadata": {},
   "source": [
    "With our predictions and labels in lists of tiled arrays, we can then flatten these so that we instead have lists of pixels for predictions and labels. This is the format expected by scikit-learn's `confusion_matrix` function."
   ]
  },
  {
   "cell_type": "code",
   "execution_count": 9,
   "metadata": {
    "id": "wI2LV_U5Okrb"
   },
   "outputs": [],
   "source": [
    "# flatten our tensors and use scikit-learn to create a confusion matrix\n",
    "flat_preds = np.concatenate(pred_arr_lst_valid).flatten()\n",
    "flat_truth = np.concatenate(label_arr_lst_valid).flatten()\n",
    "OUTPUT_CHANNELS = 9\n",
    "cm = confusion_matrix(flat_truth, flat_preds, labels=list(range(OUTPUT_CHANNELS)))"
   ]
  },
  {
   "cell_type": "markdown",
   "metadata": {},
   "source": [
    "Finally, we can plot the confusion matrix. We can either use the built-in method from scikit-learn... "
   ]
  },
  {
   "cell_type": "code",
   "execution_count": 18,
   "metadata": {},
   "outputs": [
    {
     "data": {
      "text/plain": [
       "<sklearn.metrics._plot.confusion_matrix.ConfusionMatrixDisplay at 0x16b0b0d60>"
      ]
     },
     "execution_count": 18,
     "metadata": {},
     "output_type": "execute_result"
    },
    {
     "data": {
      "image/png": "[encoded data removed]",
      "text/plain": [
       "<Figure size 432x288 with 2 Axes>"
      ]
     },
     "metadata": {
      "needs_background": "light"
     },
     "output_type": "display_data"
    }
   ],
   "source": [
    "from sklearn.metrics import ConfusionMatrixDisplay\n",
    "\n",
    "ConfusionMatrixDisplay.from_predictions(flat_truth, flat_preds, normalize='true')"
   ]
  },
  {
   "cell_type": "markdown",
   "metadata": {},
   "source": [
    "... or matplotlib, which allows us to more easily customize all aspects of our plot."
   ]
  },
  {
   "cell_type": "code",
   "execution_count": 15,
   "metadata": {
    "colab": {
     "base_uri": "https://localhost:8080/",
     "height": 727
    },
    "id": "1wlhiog_Okre",
    "outputId": "4372c319-50af-4e91-e315-d7838dc5dad4"
   },
   "outputs": [
    {
     "data": {
      "text/plain": [
       "(8.5, -0.5)"
      ]
     },
     "execution_count": 15,
     "metadata": {},
     "output_type": "execute_result"
    },
    {
     "data": {
      "image/png": "[encoded data removed]",
      "text/plain": [
       "<Figure size 720x720 with 2 Axes>"
      ]
     },
     "metadata": {
      "needs_background": "light"
     },
     "output_type": "display_data"
    }
   ],
   "source": [
    "classes = [0,1,2,3,4,5,6,7,8]\n",
    "\n",
    "%matplotlib inline\n",
    "cm = cm.astype('float') / cm.sum(axis=1)[:, np.newaxis]\n",
    "fig, ax = plt.subplots(figsize=(10, 10))\n",
    "im = ax.imshow(cm, interpolation='nearest', cmap=plt.cm.Blues)\n",
    "ax.figure.colorbar(im, ax=ax)\n",
    "# We want to show all ticks...\n",
    "ax.set(xticks=np.arange(cm.shape[1]),\n",
    "       yticks=np.arange(cm.shape[0]),\n",
    "       # ... and label them with the respective list entries\n",
    "       xticklabels=list(range(OUTPUT_CHANNELS)), yticklabels=list(range(OUTPUT_CHANNELS)),\n",
    "       title='Normalized Confusion Matrix',\n",
    "       ylabel='True label',\n",
    "       xlabel='Predicted label')\n",
    "\n",
    "# Rotate the tick labels and set their alignment.\n",
    "plt.setp(ax.get_xticklabels(), rotation=45, ha=\"right\",\n",
    "         rotation_mode=\"anchor\")\n",
    "\n",
    "# Loop over data dimensions and create text annotations.\n",
    "fmt = '.2f' #'d' # if normalize else 'd'\n",
    "thresh = cm.max() / 2.\n",
    "for i in range(cm.shape[0]):\n",
    "    for j in range(cm.shape[1]):\n",
    "        ax.text(j, i, format(cm[i, j], fmt),\n",
    "                ha=\"center\", va=\"center\",\n",
    "                color=\"white\" if cm[i, j] > thresh else \"black\")\n",
    "fig.tight_layout(pad=2.0, h_pad=2.0, w_pad=2.0)\n",
    "ax.set_ylim(len(classes)-0.5, -0.5)"
   ]
  },
  {
   "cell_type": "markdown",
   "metadata": {
    "id": "pmFmZ45aI95a"
   },
   "source": [
    "Now let's compute the f1 score\n",
    "\n",
    "F1 = 2 * (precision * recall) / (precision + recall)\n"
   ]
  },
  {
   "cell_type": "markdown",
   "metadata": {},
   "source": [
    "You can view the documentation for a python function in a jupyter notebook with \"??\". scikit-learn docs usually come with detaile descriptions of each argument and examples of usage."
   ]
  },
  {
   "cell_type": "code",
   "execution_count": null,
   "metadata": {},
   "outputs": [],
   "source": [
    "f1_score??"
   ]
  },
  {
   "cell_type": "code",
   "execution_count": null,
   "metadata": {
    "colab": {
     "base_uri": "https://localhost:8080/"
    },
    "id": "MSdwTssgI7MF",
    "outputId": "a1569699-ae88-48ed-95a0-6958209e4d3c"
   },
   "outputs": [],
   "source": [
    "# compute f1 score\n",
    "f1_score(flat_truth, flat_preds, average='macro')"
   ]
  },
  {
   "cell_type": "code",
   "execution_count": null,
   "metadata": {
    "id": "N5vOIKFXOkrh"
   },
   "outputs": [],
   "source": []
  }
 ],
 "metadata": {
  "accelerator": "GPU",
  "colab": {
   "collapsed_sections": [],
   "machine_shape": "hm",
   "name": "Indices_DeepLearning_Crop_Segmentation_112021.ipynb",
   "provenance": [],
   "toc_visible": true
  },
  "kernelspec": {
   "display_name": "Python [conda env:geospatial]",
   "language": "python",
   "name": "conda-env-geospatial-py"
  },
  "language_info": {
   "codemirror_mode": {
    "name": "ipython",
    "version": 3
   },
   "file_extension": ".py",
   "mimetype": "text/x-python",
   "name": "python",
   "nbconvert_exporter": "python",
   "pygments_lexer": "ipython3",
   "version": "3.9.7"
  }
 },
 "nbformat": 4,
 "nbformat_minor": 4
}
